{
 "cells": [
  {
   "cell_type": "markdown",
   "id": "f2690e35",
   "metadata": {},
   "source": [
    "# Simple websocket demo just using websocket module"
   ]
  },
  {
   "cell_type": "code",
   "execution_count": null,
   "id": "7f500ae0",
   "metadata": {},
   "outputs": [],
   "source": [
    "import websocket\n",
    "import json\n",
    "\n",
    "def on_open(ws):\n",
    "    data = json.dumps({\"op\": \"subscribe\",\n",
    "                       \"channel\": \"ticker\",\n",
    "                       \"market\": \"BTC/USD\"})\n",
    "    ws.send(data)\n",
    "    print(\"Connected\")\n",
    "\n",
    "    \n",
    "def on_message(ws, message):\n",
    "    print(message)\n",
    "\n",
    "\n",
    "def on_error(ws, error):\n",
    "    print(f\"Error: {error}\")\n",
    "    \n",
    "\n",
    "def on_close(ws, close_msg):\n",
    "    print(f\"Connection close\")\n",
    "    \n"
   ]
  },
  {
   "cell_type": "code",
   "execution_count": null,
   "id": "46a94177",
   "metadata": {
    "scrolled": true
   },
   "outputs": [],
   "source": [
    "endpoint = \"wss://ftx.us/ws/\"\n",
    "\n",
    "ws = websocket.WebSocketApp(endpoint,\n",
    "                            on_open=on_open,\n",
    "                            on_message=on_message,\n",
    "                            on_error=on_error,\n",
    "                            on_close=on_close)\n",
    "\n",
    "ws.run_forever()"
   ]
  },
  {
   "cell_type": "markdown",
   "id": "a135bc48",
   "metadata": {},
   "source": [
    "# Websocket using ftx's example code actually working"
   ]
  },
  {
   "cell_type": "code",
   "execution_count": null,
   "id": "b4fe353d",
   "metadata": {},
   "outputs": [],
   "source": [
    "from ftx_websocket.client import FtxWebsocketClient\n",
    "import time\n",
    "\n",
    "if __name__ == '__main__':\n",
    "    ws = FtxWebsocketClient()\n",
    "    ws.connect()\n",
    "    # while True:\n",
    "        # print(ws.get_ticker(market='BTC/USD'))\n",
    "        # print(ws.get_orderbook(market='BTC/USD'))"
   ]
  },
  {
   "cell_type": "code",
   "execution_count": null,
   "id": "018ccf51",
   "metadata": {},
   "outputs": [],
   "source": [
    "time.now()"
   ]
  },
  {
   "cell_type": "code",
   "execution_count": null,
   "id": "f4314d56",
   "metadata": {},
   "outputs": [],
   "source": [
    "import time\n",
    "sample_time = 60 # seconds"
   ]
  },
  {
   "cell_type": "code",
   "execution_count": null,
   "id": "4f0aff62",
   "metadata": {
    "scrolled": true
   },
   "outputs": [],
   "source": [
    "ws.get_orderbook(market='BTC/USD')"
   ]
  },
  {
   "cell_type": "code",
   "execution_count": null,
   "id": "65ed52c1",
   "metadata": {
    "scrolled": true
   },
   "outputs": [],
   "source": [
    "ws._orderbook_timestamps"
   ]
  },
  {
   "cell_type": "code",
   "execution_count": null,
   "id": "54645d5c",
   "metadata": {},
   "outputs": [],
   "source": []
  },
  {
   "cell_type": "code",
   "execution_count": null,
   "id": "968314a4",
   "metadata": {
    "scrolled": true
   },
   "outputs": [],
   "source": [
    "a = ws.get_orderbook(market='BTC/USD')"
   ]
  },
  {
   "cell_type": "code",
   "execution_count": null,
   "id": "72eb49f4",
   "metadata": {
    "scrolled": false
   },
   "outputs": [],
   "source": [
    "a"
   ]
  },
  {
   "cell_type": "code",
   "execution_count": null,
   "id": "262f4114",
   "metadata": {},
   "outputs": [],
   "source": [
    "import numpy as np\n",
    "b = np.zeros((25, 2))\n",
    "\n",
    "start_time = time.time()\n",
    "for ii in range(25):\n",
    "    b[ii, :] = a['bids'][ii]\n",
    "end_time = time.time()\n",
    "\n",
    "print(end_time - start_time)"
   ]
  },
  {
   "cell_type": "code",
   "execution_count": null,
   "id": "3e6822de",
   "metadata": {},
   "outputs": [],
   "source": []
  },
  {
   "cell_type": "code",
   "execution_count": null,
   "id": "d24e4421",
   "metadata": {
    "scrolled": true
   },
   "outputs": [],
   "source": [
    "ws.get_orderbook_timestamp(market='BTC/USD')"
   ]
  },
  {
   "cell_type": "code",
   "execution_count": null,
   "id": "e6733c27",
   "metadata": {},
   "outputs": [],
   "source": [
    "stop_time = time.time() + sample_time\n",
    "\n",
    "orderbook_timestamps = []\n",
    "while (time.time() < stop_time):\n",
    "    orderbook_timestamp = ws.get_orderbook_timestamp(market='BTC/USD')\n",
    "    orderbook_timestamps.append(orderbook_timestamp)"
   ]
  },
  {
   "cell_type": "code",
   "execution_count": null,
   "id": "b77605b6",
   "metadata": {},
   "outputs": [],
   "source": [
    "import pandas as pd\n",
    "import matplotlib.pyplot as plt\n",
    "import numpy as np\n",
    "%matplotlib notebook"
   ]
  },
  {
   "cell_type": "code",
   "execution_count": null,
   "id": "58e63d27",
   "metadata": {},
   "outputs": [],
   "source": [
    "orderbook_ts_df = pd.DataFrame(orderbook_timestamps, columns=['time'])"
   ]
  },
  {
   "cell_type": "code",
   "execution_count": null,
   "id": "e5fcf925",
   "metadata": {},
   "outputs": [],
   "source": [
    "orderbook_ts_df"
   ]
  },
  {
   "cell_type": "code",
   "execution_count": null,
   "id": "e5a1e3ae",
   "metadata": {},
   "outputs": [],
   "source": [
    "orderbook_ts_df['micro_second'] = orderbook_ts_df['time'] * 1000000"
   ]
  },
  {
   "cell_type": "code",
   "execution_count": null,
   "id": "86a1e3b8",
   "metadata": {},
   "outputs": [],
   "source": [
    "orderbook_ts_df['micro_second'].astype(int)\n"
   ]
  },
  {
   "cell_type": "code",
   "execution_count": null,
   "id": "9493324e",
   "metadata": {},
   "outputs": [],
   "source": [
    "orderbook_ts_unique = orderbook_ts_df['micro_second'].unique()"
   ]
  },
  {
   "cell_type": "code",
   "execution_count": null,
   "id": "dd17b7e1",
   "metadata": {
    "scrolled": true
   },
   "outputs": [],
   "source": [
    "len(orderbook_ts_unique)"
   ]
  },
  {
   "cell_type": "code",
   "execution_count": null,
   "id": "f488c309",
   "metadata": {},
   "outputs": [],
   "source": [
    "import numpy as np\n",
    "orderbook_intermessage_arrival_times = np.diff(orderbook_ts_unique)"
   ]
  },
  {
   "cell_type": "code",
   "execution_count": null,
   "id": "0f7745a4",
   "metadata": {
    "scrolled": true
   },
   "outputs": [],
   "source": [
    "orderbook_ts_unique \n",
    "\n",
    "fig = plt.figure()\n",
    "\n",
    "a = plt.hist(orderbook_intermessage_arrival_times / 1000, bins=100)"
   ]
  },
  {
   "cell_type": "code",
   "execution_count": null,
   "id": "c2b2e200",
   "metadata": {},
   "outputs": [],
   "source": [
    "a"
   ]
  },
  {
   "cell_type": "code",
   "execution_count": null,
   "id": "b7049d8f",
   "metadata": {},
   "outputs": [],
   "source": [
    "np.min(orderbook_intermessage_arrival_times) / 1000"
   ]
  },
  {
   "cell_type": "code",
   "execution_count": null,
   "id": "b1e9651f",
   "metadata": {},
   "outputs": [],
   "source": [
    "fig2 = plt.figure()\n",
    "\n",
    "plt.plot(a[1][:-1], a[0].cumsum() / len(orderbook_intermessage_arrival_times))"
   ]
  },
  {
   "cell_type": "code",
   "execution_count": null,
   "id": "052d3362",
   "metadata": {},
   "outputs": [],
   "source": []
  }
 ],
 "metadata": {
  "kernelspec": {
   "display_name": "Python 3 (ipykernel)",
   "language": "python",
   "name": "python3"
  },
  "language_info": {
   "codemirror_mode": {
    "name": "ipython",
    "version": 3
   },
   "file_extension": ".py",
   "mimetype": "text/x-python",
   "name": "python",
   "nbconvert_exporter": "python",
   "pygments_lexer": "ipython3",
   "version": "3.7.13"
  }
 },
 "nbformat": 4,
 "nbformat_minor": 5
}
