{
 "cells": [
  {
   "cell_type": "markdown",
   "id": "a135bc48",
   "metadata": {},
   "source": [
    "# Exploring market market"
   ]
  },
  {
   "cell_type": "code",
   "execution_count": 1,
   "id": "21ce6b0b",
   "metadata": {},
   "outputs": [],
   "source": [
    "import os"
   ]
  },
  {
   "cell_type": "code",
   "execution_count": 2,
   "id": "1d711dee",
   "metadata": {},
   "outputs": [],
   "source": [
    "os.chdir('../')"
   ]
  },
  {
   "cell_type": "code",
   "execution_count": 3,
   "id": "e377bb8e",
   "metadata": {},
   "outputs": [],
   "source": [
    "from strategies.market_maker import MarketMaker\n",
    "import yaml"
   ]
  },
  {
   "cell_type": "code",
   "execution_count": 4,
   "id": "83777c98",
   "metadata": {},
   "outputs": [],
   "source": [
    "with open(\"config.yaml\") as f:\n",
    "    config = yaml.load(f, Loader=yaml.FullLoader)\n",
    "with open(\"api/api_keys.yaml\") as f:\n",
    "    api_keys = yaml.load(f, Loader=yaml.FullLoader)"
   ]
  },
  {
   "cell_type": "code",
   "execution_count": null,
   "id": "a956e1c1",
   "metadata": {},
   "outputs": [],
   "source": []
  },
  {
   "cell_type": "code",
   "execution_count": 5,
   "id": "73e0de12",
   "metadata": {},
   "outputs": [],
   "source": [
    "symbols = ['BTC/USD']"
   ]
  },
  {
   "cell_type": "code",
   "execution_count": 6,
   "id": "ab866c90",
   "metadata": {},
   "outputs": [],
   "source": [
    "mm = MarketMaker(config,\n",
    "                 api_key=api_keys['api_key'],\n",
    "                 api_secret=api_keys['api_secret'])"
   ]
  },
  {
   "cell_type": "code",
   "execution_count": 7,
   "id": "341e17a5",
   "metadata": {},
   "outputs": [],
   "source": [
    "import ccxt\n",
    "exchange = ccxt.ftxus()\n",
    "exchange.apiKey = api_keys['api_key']\n",
    "exchange.secret = api_keys['api_secret']"
   ]
  },
  {
   "cell_type": "code",
   "execution_count": 8,
   "id": "93192e21",
   "metadata": {
    "scrolled": true
   },
   "outputs": [
    {
     "name": "stdout",
     "output_type": "stream",
     "text": [
      "{'info': {'success': True, 'result': [{'coin': 'BTC', 'total': '0.00602323', 'free': '0.00602323', 'availableForWithdrawal': '0.00602323', 'availableWithoutBorrow': '0.00602323', 'usdValue': '114.97875053414', 'spotBorrow': '0.0'}, {'coin': 'USD', 'total': '0.53694993', 'free': '0.53694993', 'availableForWithdrawal': '0.53694993', 'availableWithoutBorrow': '0.53694993', 'usdValue': '0.53694993475395', 'spotBorrow': '0.0'}, {'coin': 'AVAX', 'total': '0.0', 'free': '0.0', 'availableForWithdrawal': '0.0', 'availableWithoutBorrow': '0.0', 'usdValue': '0.0', 'spotBorrow': '0.0'}]}, 'BTC': {'free': 0.00602323, 'used': 0.0, 'total': 0.00602323}, 'USD': {'free': 0.53694993, 'used': 0.0, 'total': 0.53694993}, 'AVAX': {'free': 0.0, 'used': 0.0, 'total': 0.0}, 'free': {'BTC': 0.00602323, 'USD': 0.53694993, 'AVAX': 0.0}, 'used': {'BTC': 0.0, 'USD': 0.0, 'AVAX': 0.0}, 'total': {'BTC': 0.00602323, 'USD': 0.53694993, 'AVAX': 0.0}}\n",
      "Connection to remote host was lost.\n"
     ]
    }
   ],
   "source": [
    "asset_balances = exchange.fetchBalance()\n",
    "print(asset_balances)"
   ]
  },
  {
   "cell_type": "code",
   "execution_count": 9,
   "id": "4520781d",
   "metadata": {},
   "outputs": [
    {
     "name": "stdout",
     "output_type": "stream",
     "text": [
      "BTC: 114.97875053414\n",
      "USD: 0.53694993475395\n",
      "AVAX: 0.0\n",
      "Connection to remote host was lost.\n"
     ]
    }
   ],
   "source": [
    "assets = asset_balances['info']['result']\n",
    "for coin in assets:\n",
    "    print(f\"{coin['coin']}: {coin['usdValue']}\")"
   ]
  },
  {
   "cell_type": "code",
   "execution_count": 10,
   "id": "07064dd8",
   "metadata": {},
   "outputs": [],
   "source": [
    "orders = exchange.fetchOrders()"
   ]
  },
  {
   "cell_type": "code",
   "execution_count": 12,
   "id": "5bcd104b",
   "metadata": {
    "scrolled": true
   },
   "outputs": [
    {
     "data": {
      "text/plain": [
       "[{'info': {'id': '7999861973',\n",
       "   'clientId': 'web-Vn31VZJf-1665470831645',\n",
       "   'market': 'BTC/USD',\n",
       "   'type': 'limit',\n",
       "   'side': 'buy',\n",
       "   'price': '18950.0',\n",
       "   'size': '0.0005',\n",
       "   'status': 'closed',\n",
       "   'filledSize': '0.0005',\n",
       "   'remainingSize': '0.0',\n",
       "   'reduceOnly': False,\n",
       "   'liquidation': False,\n",
       "   'avgFillPrice': '18950.0',\n",
       "   'postOnly': False,\n",
       "   'ioc': False,\n",
       "   'createdAt': '2022-10-11T06:47:11.798682+00:00',\n",
       "   'future': None,\n",
       "   'twapOrderId': None},\n",
       "  'id': '7999861973',\n",
       "  'clientOrderId': 'web-Vn31VZJf-1665470831645',\n",
       "  'timestamp': 1665470831798,\n",
       "  'datetime': '2022-10-11T06:47:11.798Z',\n",
       "  'lastTradeTimestamp': None,\n",
       "  'symbol': 'BTC/USD',\n",
       "  'type': 'limit',\n",
       "  'timeInForce': None,\n",
       "  'postOnly': False,\n",
       "  'reduceOnly': False,\n",
       "  'side': 'buy',\n",
       "  'price': 18950.0,\n",
       "  'stopPrice': None,\n",
       "  'amount': 0.0005,\n",
       "  'cost': 9.475,\n",
       "  'average': 18950.0,\n",
       "  'filled': 0.0005,\n",
       "  'remaining': 0.0,\n",
       "  'status': 'closed',\n",
       "  'fee': None,\n",
       "  'trades': [],\n",
       "  'fees': []},\n",
       " {'info': {'id': '8013311930',\n",
       "   'clientId': 'web-fN6H64Iu-1665555528557',\n",
       "   'market': 'BTC/USD',\n",
       "   'type': 'limit',\n",
       "   'side': 'sell',\n",
       "   'price': '19166.0',\n",
       "   'size': '0.0005',\n",
       "   'status': 'closed',\n",
       "   'filledSize': '0.0',\n",
       "   'remainingSize': '0.0',\n",
       "   'reduceOnly': False,\n",
       "   'liquidation': False,\n",
       "   'avgFillPrice': None,\n",
       "   'postOnly': False,\n",
       "   'ioc': False,\n",
       "   'createdAt': '2022-10-12T06:18:48.776895+00:00',\n",
       "   'future': None,\n",
       "   'twapOrderId': None},\n",
       "  'id': '8013311930',\n",
       "  'clientOrderId': 'web-fN6H64Iu-1665555528557',\n",
       "  'timestamp': 1665555528776,\n",
       "  'datetime': '2022-10-12T06:18:48.776Z',\n",
       "  'lastTradeTimestamp': None,\n",
       "  'symbol': 'BTC/USD',\n",
       "  'type': 'limit',\n",
       "  'timeInForce': None,\n",
       "  'postOnly': False,\n",
       "  'reduceOnly': False,\n",
       "  'side': 'sell',\n",
       "  'price': 19166.0,\n",
       "  'stopPrice': None,\n",
       "  'amount': 0.0005,\n",
       "  'cost': 0.0,\n",
       "  'average': None,\n",
       "  'filled': 0.0,\n",
       "  'remaining': 0.0005,\n",
       "  'status': 'canceled',\n",
       "  'fee': None,\n",
       "  'trades': [],\n",
       "  'fees': []},\n",
       " {'info': {'id': '8013314614',\n",
       "   'clientId': 'web-WNsYSt38-1665555551773',\n",
       "   'market': 'BTC/USD',\n",
       "   'type': 'limit',\n",
       "   'side': 'sell',\n",
       "   'price': '19166.0',\n",
       "   'size': '0.0005',\n",
       "   'status': 'closed',\n",
       "   'filledSize': '0.0005',\n",
       "   'remainingSize': '0.0',\n",
       "   'reduceOnly': False,\n",
       "   'liquidation': False,\n",
       "   'avgFillPrice': '19166.0',\n",
       "   'postOnly': False,\n",
       "   'ioc': False,\n",
       "   'createdAt': '2022-10-12T06:19:11.934523+00:00',\n",
       "   'future': None,\n",
       "   'twapOrderId': None},\n",
       "  'id': '8013314614',\n",
       "  'clientOrderId': 'web-WNsYSt38-1665555551773',\n",
       "  'timestamp': 1665555551934,\n",
       "  'datetime': '2022-10-12T06:19:11.934Z',\n",
       "  'lastTradeTimestamp': None,\n",
       "  'symbol': 'BTC/USD',\n",
       "  'type': 'limit',\n",
       "  'timeInForce': None,\n",
       "  'postOnly': False,\n",
       "  'reduceOnly': False,\n",
       "  'side': 'sell',\n",
       "  'price': 19166.0,\n",
       "  'stopPrice': None,\n",
       "  'amount': 0.0005,\n",
       "  'cost': 9.583,\n",
       "  'average': 19166.0,\n",
       "  'filled': 0.0005,\n",
       "  'remaining': 0.0,\n",
       "  'status': 'closed',\n",
       "  'fee': None,\n",
       "  'trades': [],\n",
       "  'fees': []},\n",
       " {'info': {'id': '8013493844',\n",
       "   'clientId': 'web-lfw0CwBg-1665556634619',\n",
       "   'market': 'BTC/USD',\n",
       "   'type': 'limit',\n",
       "   'side': 'buy',\n",
       "   'price': '19123.0',\n",
       "   'size': '0.0005',\n",
       "   'status': 'closed',\n",
       "   'filledSize': '0.0005',\n",
       "   'remainingSize': '0.0',\n",
       "   'reduceOnly': False,\n",
       "   'liquidation': False,\n",
       "   'avgFillPrice': '19123.0',\n",
       "   'postOnly': False,\n",
       "   'ioc': False,\n",
       "   'createdAt': '2022-10-12T06:37:14.792081+00:00',\n",
       "   'future': None,\n",
       "   'twapOrderId': None},\n",
       "  'id': '8013493844',\n",
       "  'clientOrderId': 'web-lfw0CwBg-1665556634619',\n",
       "  'timestamp': 1665556634792,\n",
       "  'datetime': '2022-10-12T06:37:14.792Z',\n",
       "  'lastTradeTimestamp': None,\n",
       "  'symbol': 'BTC/USD',\n",
       "  'type': 'limit',\n",
       "  'timeInForce': None,\n",
       "  'postOnly': False,\n",
       "  'reduceOnly': False,\n",
       "  'side': 'buy',\n",
       "  'price': 19123.0,\n",
       "  'stopPrice': None,\n",
       "  'amount': 0.0005,\n",
       "  'cost': 9.5615,\n",
       "  'average': 19123.0,\n",
       "  'filled': 0.0005,\n",
       "  'remaining': 0.0,\n",
       "  'status': 'closed',\n",
       "  'fee': None,\n",
       "  'trades': [],\n",
       "  'fees': []}]"
      ]
     },
     "execution_count": 12,
     "metadata": {},
     "output_type": "execute_result"
    }
   ],
   "source": [
    "orders"
   ]
  },
  {
   "cell_type": "code",
   "execution_count": 11,
   "id": "9cbb7b82",
   "metadata": {},
   "outputs": [
    {
     "name": "stdout",
     "output_type": "stream",
     "text": [
      "18950.0\n",
      "19166.0\n",
      "19166.0\n",
      "19123.0\n",
      "Connection to remote host was lost.\n"
     ]
    }
   ],
   "source": [
    "for order in orders:\n",
    "    order_info = order['info']['price']\n",
    "    print(order_info)"
   ]
  },
  {
   "cell_type": "code",
   "execution_count": null,
   "id": "8a342a2e",
   "metadata": {
    "scrolled": false
   },
   "outputs": [],
   "source": [
    "print(orders)"
   ]
  },
  {
   "cell_type": "code",
   "execution_count": 15,
   "id": "bda70fb5",
   "metadata": {
    "scrolled": true
   },
   "outputs": [],
   "source": [
    "open_orders = exchange.fetchOpenOrders('BTC/USD')"
   ]
  },
  {
   "cell_type": "code",
   "execution_count": 16,
   "id": "21b91f24",
   "metadata": {},
   "outputs": [
    {
     "name": "stdout",
     "output_type": "stream",
     "text": [
      "{'info': {'id': '8024472596', 'clientId': 'web-I6VDZdQa-1665635374436', 'market': 'BTC/USD', 'type': 'limit', 'side': 'sell', 'price': '19150.0', 'size': '0.0005', 'status': 'open', 'filledSize': '0.0', 'remainingSize': '0.0005', 'reduceOnly': False, 'liquidation': False, 'avgFillPrice': None, 'postOnly': True, 'ioc': False, 'createdAt': '2022-10-13T04:29:34.601825+00:00', 'future': None}, 'id': '8024472596', 'clientOrderId': 'web-I6VDZdQa-1665635374436', 'timestamp': 1665635374601, 'datetime': '2022-10-13T04:29:34.601Z', 'lastTradeTimestamp': None, 'symbol': 'BTC/USD', 'type': 'limit', 'timeInForce': 'PO', 'postOnly': True, 'reduceOnly': False, 'side': 'sell', 'price': 19150.0, 'stopPrice': None, 'amount': 0.0005, 'cost': 0.0, 'average': None, 'filled': 0.0, 'remaining': 0.0005, 'status': 'open', 'fee': None, 'trades': [], 'fees': []}\n",
      "Connection to remote host was lost.\n",
      "Connection to remote host was lost.\n"
     ]
    }
   ],
   "source": [
    "print(open_orders[0])"
   ]
  },
  {
   "cell_type": "code",
   "execution_count": 19,
   "id": "b429af1f",
   "metadata": {},
   "outputs": [],
   "source": [
    "sell_open_orders = [order for order in open_orders if \n",
    "                    order['side'] == 'buy']"
   ]
  },
  {
   "cell_type": "code",
   "execution_count": 20,
   "id": "b14f1669",
   "metadata": {
    "scrolled": true
   },
   "outputs": [
    {
     "name": "stdout",
     "output_type": "stream",
     "text": [
      "[]\n",
      "Connection to remote host was lost.\n",
      "Connection to remote host was lost.\n",
      "Connection to remote host was lost.\n",
      "Connection to remote host was lost.\n",
      "Connection to remote host was lost.\n",
      "Connection to remote host was lost.\n",
      "Connection to remote host was lost.\n",
      "Connection to remote host was lost.\n",
      "Connection to remote host was lost.\n",
      "Connection to remote host was lost.\n",
      "Connection to remote host was lost.\n",
      "Connection to remote host was lost.\n",
      "Connection to remote host was lost.\n",
      "Connection to remote host was lost.\n",
      "Connection to remote host was lost.\n",
      "Connection to remote host was lost.\n",
      "Connection to remote host was lost.\n",
      "Connection to remote host was lost.\n",
      "Connection to remote host was lost.\n",
      "Connection to remote host was lost.\n",
      "Connection to remote host was lost.\n",
      "Connection to remote host was lost.\n",
      "Connection to remote host was lost.\n",
      "Connection to remote host was lost.\n",
      "Connection to remote host was lost.\n",
      "Connection to remote host was lost.\n",
      "Connection to remote host was lost.\n",
      "Connection to remote host was lost.\n",
      "Connection to remote host was lost.\n",
      "Connection to remote host was lost.\n",
      "Connection to remote host was lost.\n",
      "Connection to remote host was lost.\n",
      "Connection to remote host was lost.\n",
      "Connection to remote host was lost.\n",
      "Connection to remote host was lost.\n",
      "Connection to remote host was lost.\n",
      "Connection to remote host was lost.\n",
      "Connection to remote host was lost.\n",
      "Connection to remote host was lost.\n",
      "Connection to remote host was lost.\n",
      "Connection to remote host was lost.\n",
      "Connection to remote host was lost.\n",
      "Connection to remote host was lost.\n",
      "Connection to remote host was lost.\n",
      "Connection to remote host was lost.\n",
      "Connection to remote host was lost.\n",
      "Connection to remote host was lost.\n",
      "Connection to remote host was lost.\n",
      "Connection to remote host was lost.\n",
      "Connection to remote host was lost.\n",
      "Connection to remote host was lost.\n",
      "Connection to remote host was lost.\n",
      "Connection to remote host was lost.\n",
      "Connection to remote host was lost.\n",
      "Connection to remote host was lost.\n",
      "Connection to remote host was lost.\n",
      "Connection to remote host was lost.\n",
      "Connection to remote host was lost.\n",
      "Connection to remote host was lost.\n",
      "Connection to remote host was lost.\n",
      "Connection to remote host was lost.\n",
      "Connection to remote host was lost.\n",
      "Connection to remote host was lost.\n",
      "Connection to remote host was lost.\n",
      "Connection to remote host was lost.\n",
      "Connection to remote host was lost.\n",
      "Connection to remote host was lost.\n",
      "Connection to remote host was lost.\n",
      "Connection to remote host was lost.\n",
      "Connection to remote host was lost.\n",
      "Connection to remote host was lost.\n",
      "Connection to remote host was lost.\n",
      "Connection to remote host was lost.\n",
      "Connection to remote host was lost.\n",
      "Connection to remote host was lost.\n",
      "Connection to remote host was lost.\n",
      "Connection to remote host was lost.\n",
      "Connection to remote host was lost.\n",
      "Connection to remote host was lost.\n",
      "Connection to remote host was lost.\n",
      "Connection to remote host was lost.\n",
      "Connection to remote host was lost.\n",
      "Connection to remote host was lost.\n",
      "Connection to remote host was lost.\n",
      "Connection to remote host was lost.\n",
      "Connection to remote host was lost.\n",
      "Connection to remote host was lost.\n",
      "Connection to remote host was lost.\n",
      "Connection to remote host was lost.\n",
      "Connection to remote host was lost.\n",
      "Connection to remote host was lost.\n",
      "Connection to remote host was lost.\n",
      "Connection to remote host was lost.\n",
      "Connection to remote host was lost.\n",
      "Connection to remote host was lost.\n",
      "Connection to remote host was lost.\n",
      "Connection to remote host was lost.\n",
      "Connection to remote host was lost.\n",
      "Connection to remote host was lost.\n",
      "Connection to remote host was lost.\n",
      "Connection to remote host was lost.\n",
      "Connection to remote host was lost.\n",
      "Connection to remote host was lost.\n",
      "Connection to remote host was lost.\n",
      "Connection to remote host was lost.\n",
      "Connection to remote host was lost.\n",
      "Connection to remote host was lost.\n",
      "Connection to remote host was lost.\n",
      "Connection to remote host was lost.\n",
      "Connection to remote host was lost.\n",
      "Connection to remote host was lost.\n",
      "Connection to remote host was lost.\n",
      "Connection to remote host was lost.\n",
      "Connection to remote host was lost.\n",
      "Connection to remote host was lost.\n",
      "Connection to remote host was lost.\n",
      "Connection to remote host was lost.\n",
      "Connection to remote host was lost.\n",
      "Connection to remote host was lost.\n",
      "Connection to remote host was lost.\n",
      "Connection to remote host was lost.\n",
      "Connection to remote host was lost.\n",
      "Connection to remote host was lost.\n",
      "Connection to remote host was lost.\n",
      "Connection to remote host was lost.\n",
      "Connection to remote host was lost.\n",
      "Connection to remote host was lost.\n",
      "Connection to remote host was lost.\n",
      "Connection to remote host was lost.\n",
      "Connection to remote host was lost.\n",
      "Connection to remote host was lost.\n",
      "Connection to remote host was lost.\n",
      "Connection to remote host was lost.\n",
      "Connection to remote host was lost.\n",
      "Connection to remote host was lost.\n",
      "Connection to remote host was lost.\n",
      "Connection to remote host was lost.\n",
      "Connection to remote host was lost.\n",
      "Connection to remote host was lost.\n",
      "Connection to remote host was lost.\n",
      "Connection to remote host was lost.\n",
      "Connection to remote host was lost.\n",
      "Connection to remote host was lost.\n",
      "Connection to remote host was lost.\n",
      "Connection to remote host was lost.\n",
      "Connection to remote host was lost.\n",
      "Connection to remote host was lost.\n",
      "Connection to remote host was lost.\n",
      "Connection to remote host was lost.\n",
      "Connection to remote host was lost.\n",
      "Connection to remote host was lost.\n",
      "Connection to remote host was lost.\n",
      "Connection to remote host was lost.\n"
     ]
    }
   ],
   "source": [
    "print(sell_open_orders)"
   ]
  },
  {
   "cell_type": "code",
   "execution_count": null,
   "id": "16b10921",
   "metadata": {},
   "outputs": [],
   "source": []
  },
  {
   "cell_type": "code",
   "execution_count": null,
   "id": "7f87f386",
   "metadata": {},
   "outputs": [],
   "source": []
  },
  {
   "cell_type": "code",
   "execution_count": null,
   "id": "306dae0d",
   "metadata": {},
   "outputs": [],
   "source": []
  },
  {
   "cell_type": "code",
   "execution_count": null,
   "id": "d6b0d2c0",
   "metadata": {},
   "outputs": [],
   "source": []
  },
  {
   "cell_type": "code",
   "execution_count": null,
   "id": "b7a71f76",
   "metadata": {},
   "outputs": [],
   "source": []
  },
  {
   "cell_type": "code",
   "execution_count": null,
   "id": "6bd75cd6",
   "metadata": {},
   "outputs": [],
   "source": []
  },
  {
   "cell_type": "code",
   "execution_count": null,
   "id": "c2839c26",
   "metadata": {},
   "outputs": [],
   "source": []
  },
  {
   "cell_type": "code",
   "execution_count": null,
   "id": "a7b43af1",
   "metadata": {},
   "outputs": [],
   "source": []
  },
  {
   "cell_type": "code",
   "execution_count": null,
   "id": "f4314d56",
   "metadata": {},
   "outputs": [],
   "source": [
    "import time\n",
    "sample_time = 60 # seconds"
   ]
  },
  {
   "cell_type": "code",
   "execution_count": null,
   "id": "4f0aff62",
   "metadata": {
    "scrolled": true
   },
   "outputs": [],
   "source": [
    "ws.get_orderbook(market='BTC/USD')"
   ]
  },
  {
   "cell_type": "code",
   "execution_count": null,
   "id": "65ed52c1",
   "metadata": {
    "scrolled": true
   },
   "outputs": [],
   "source": [
    "ws._orderbook_timestamps"
   ]
  },
  {
   "cell_type": "code",
   "execution_count": null,
   "id": "54645d5c",
   "metadata": {},
   "outputs": [],
   "source": []
  },
  {
   "cell_type": "code",
   "execution_count": null,
   "id": "968314a4",
   "metadata": {
    "scrolled": true
   },
   "outputs": [],
   "source": [
    "a = ws.get_orderbook(market='BTC/USD')"
   ]
  },
  {
   "cell_type": "code",
   "execution_count": null,
   "id": "72eb49f4",
   "metadata": {
    "scrolled": false
   },
   "outputs": [],
   "source": [
    "a"
   ]
  },
  {
   "cell_type": "code",
   "execution_count": null,
   "id": "262f4114",
   "metadata": {},
   "outputs": [],
   "source": [
    "import numpy as np\n",
    "b = np.zeros((25, 2))\n",
    "\n",
    "start_time = time.time()\n",
    "for ii in range(25):\n",
    "    b[ii, :] = a['bids'][ii]\n",
    "end_time = time.time()\n",
    "\n",
    "print(end_time - start_time)"
   ]
  },
  {
   "cell_type": "code",
   "execution_count": null,
   "id": "3e6822de",
   "metadata": {},
   "outputs": [],
   "source": []
  },
  {
   "cell_type": "code",
   "execution_count": null,
   "id": "d24e4421",
   "metadata": {
    "scrolled": true
   },
   "outputs": [],
   "source": [
    "ws.get_orderbook_timestamp(market='BTC/USD')"
   ]
  },
  {
   "cell_type": "code",
   "execution_count": null,
   "id": "e6733c27",
   "metadata": {},
   "outputs": [],
   "source": [
    "stop_time = time.time() + sample_time\n",
    "\n",
    "orderbook_timestamps = []\n",
    "while (time.time() < stop_time):\n",
    "    orderbook_timestamp = ws.get_orderbook_timestamp(market='BTC/USD')\n",
    "    orderbook_timestamps.append(orderbook_timestamp)"
   ]
  },
  {
   "cell_type": "code",
   "execution_count": null,
   "id": "b77605b6",
   "metadata": {},
   "outputs": [],
   "source": [
    "import pandas as pd\n",
    "import matplotlib.pyplot as plt\n",
    "import numpy as np\n",
    "%matplotlib notebook"
   ]
  },
  {
   "cell_type": "code",
   "execution_count": null,
   "id": "58e63d27",
   "metadata": {},
   "outputs": [],
   "source": [
    "orderbook_ts_df = pd.DataFrame(orderbook_timestamps, columns=['time'])"
   ]
  },
  {
   "cell_type": "code",
   "execution_count": null,
   "id": "e5fcf925",
   "metadata": {},
   "outputs": [],
   "source": [
    "orderbook_ts_df"
   ]
  },
  {
   "cell_type": "code",
   "execution_count": null,
   "id": "e5a1e3ae",
   "metadata": {},
   "outputs": [],
   "source": [
    "orderbook_ts_df['micro_second'] = orderbook_ts_df['time'] * 1000000"
   ]
  },
  {
   "cell_type": "code",
   "execution_count": null,
   "id": "86a1e3b8",
   "metadata": {},
   "outputs": [],
   "source": [
    "orderbook_ts_df['micro_second'].astype(int)\n"
   ]
  },
  {
   "cell_type": "code",
   "execution_count": null,
   "id": "9493324e",
   "metadata": {},
   "outputs": [],
   "source": [
    "orderbook_ts_unique = orderbook_ts_df['micro_second'].unique()"
   ]
  },
  {
   "cell_type": "code",
   "execution_count": null,
   "id": "dd17b7e1",
   "metadata": {
    "scrolled": true
   },
   "outputs": [],
   "source": [
    "len(orderbook_ts_unique)"
   ]
  },
  {
   "cell_type": "code",
   "execution_count": null,
   "id": "f488c309",
   "metadata": {},
   "outputs": [],
   "source": [
    "import numpy as np\n",
    "orderbook_intermessage_arrival_times = np.diff(orderbook_ts_unique)"
   ]
  },
  {
   "cell_type": "code",
   "execution_count": null,
   "id": "0f7745a4",
   "metadata": {
    "scrolled": true
   },
   "outputs": [],
   "source": [
    "orderbook_ts_unique \n",
    "\n",
    "fig = plt.figure()\n",
    "\n",
    "a = plt.hist(orderbook_intermessage_arrival_times / 1000, bins=100)"
   ]
  },
  {
   "cell_type": "code",
   "execution_count": null,
   "id": "c2b2e200",
   "metadata": {},
   "outputs": [],
   "source": [
    "a"
   ]
  },
  {
   "cell_type": "code",
   "execution_count": null,
   "id": "b7049d8f",
   "metadata": {},
   "outputs": [],
   "source": [
    "np.min(orderbook_intermessage_arrival_times) / 1000"
   ]
  },
  {
   "cell_type": "code",
   "execution_count": null,
   "id": "b1e9651f",
   "metadata": {},
   "outputs": [],
   "source": [
    "fig2 = plt.figure()\n",
    "\n",
    "plt.plot(a[1][:-1], a[0].cumsum() / len(orderbook_intermessage_arrival_times))"
   ]
  },
  {
   "cell_type": "code",
   "execution_count": null,
   "id": "052d3362",
   "metadata": {},
   "outputs": [],
   "source": []
  }
 ],
 "metadata": {
  "kernelspec": {
   "display_name": "Python 3 (ipykernel)",
   "language": "python",
   "name": "python3"
  },
  "language_info": {
   "codemirror_mode": {
    "name": "ipython",
    "version": 3
   },
   "file_extension": ".py",
   "mimetype": "text/x-python",
   "name": "python",
   "nbconvert_exporter": "python",
   "pygments_lexer": "ipython3",
   "version": "3.7.13"
  }
 },
 "nbformat": 4,
 "nbformat_minor": 5
}
