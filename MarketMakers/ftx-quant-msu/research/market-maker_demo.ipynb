{
 "cells": [
  {
   "cell_type": "markdown",
   "id": "a135bc48",
   "metadata": {},
   "source": [
    "# Exploring market market"
   ]
  },
  {
   "cell_type": "code",
   "execution_count": 1,
   "id": "087cee40",
   "metadata": {},
   "outputs": [],
   "source": [
    "import os"
   ]
  },
  {
   "cell_type": "code",
   "execution_count": 2,
   "id": "71184154",
   "metadata": {},
   "outputs": [],
   "source": [
    "os.chdir('../')"
   ]
  },
  {
   "cell_type": "code",
   "execution_count": 3,
   "id": "606d37e3",
   "metadata": {},
   "outputs": [],
   "source": [
    "from strategies.market_maker import MarketMaker\n",
    "import yaml"
   ]
  },
  {
   "cell_type": "code",
   "execution_count": 4,
   "id": "4447a1a7",
   "metadata": {},
   "outputs": [],
   "source": [
    "with open(\"config.yaml\") as f:\n",
    "    config = yaml.load(f, Loader=yaml.FullLoader)\n",
    "with open(\"api/api_keys.yaml\") as f:\n",
    "    api_keys = yaml.load(f, Loader=yaml.FullLoader)"
   ]
  },
  {
   "cell_type": "code",
   "execution_count": null,
   "id": "34d4759b",
   "metadata": {},
   "outputs": [],
   "source": []
  },
  {
   "cell_type": "code",
   "execution_count": 5,
   "id": "1835972d",
   "metadata": {},
   "outputs": [],
   "source": [
    "symbols = ['BTC/USD']"
   ]
  },
  {
   "cell_type": "code",
   "execution_count": 6,
   "id": "d8f13666",
   "metadata": {},
   "outputs": [],
   "source": [
    "mm = MarketMaker(config,\n",
    "                 api_key=api_keys['api_key'],\n",
    "                 api_secret=api_keys['api_secret'])"
   ]
  },
  {
   "cell_type": "code",
   "execution_count": 7,
   "id": "5d9668ab",
   "metadata": {},
   "outputs": [],
   "source": [
    "import ccxt\n",
    "exchange = ccxt.ftxus()\n",
    "exchange.apiKey = api_keys['api_key']\n",
    "exchange.secret = api_keys['api_secret']"
   ]
  },
  {
   "cell_type": "code",
   "execution_count": 8,
   "id": "7dba5ca0",
   "metadata": {
    "scrolled": true
   },
   "outputs": [
    {
     "name": "stdout",
     "output_type": "stream",
     "text": [
      "{'info': {'success': True, 'result': [{'coin': 'BTC', 'total': '0.00602323', 'free': '0.00602323', 'availableForWithdrawal': '0.00602323', 'availableWithoutBorrow': '0.00602323', 'usdValue': '114.97875053414', 'spotBorrow': '0.0'}, {'coin': 'USD', 'total': '0.53694993', 'free': '0.53694993', 'availableForWithdrawal': '0.53694993', 'availableWithoutBorrow': '0.53694993', 'usdValue': '0.53694993475395', 'spotBorrow': '0.0'}, {'coin': 'AVAX', 'total': '0.0', 'free': '0.0', 'availableForWithdrawal': '0.0', 'availableWithoutBorrow': '0.0', 'usdValue': '0.0', 'spotBorrow': '0.0'}]}, 'BTC': {'free': 0.00602323, 'used': 0.0, 'total': 0.00602323}, 'USD': {'free': 0.53694993, 'used': 0.0, 'total': 0.53694993}, 'AVAX': {'free': 0.0, 'used': 0.0, 'total': 0.0}, 'free': {'BTC': 0.00602323, 'USD': 0.53694993, 'AVAX': 0.0}, 'used': {'BTC': 0.0, 'USD': 0.0, 'AVAX': 0.0}, 'total': {'BTC': 0.00602323, 'USD': 0.53694993, 'AVAX': 0.0}}\n",
      "Connection to remote host was lost.\n"
     ]
    }
   ],
   "source": [
    "asset_balances = exchange.fetchBalance()\n",
    "print(asset_balances)"
   ]
  },
  {
   "cell_type": "code",
   "execution_count": 9,
   "id": "d9a90b56",
   "metadata": {},
   "outputs": [
    {
     "name": "stdout",
     "output_type": "stream",
     "text": [
      "BTC: 114.97875053414\n",
      "USD: 0.53694993475395\n",
      "AVAX: 0.0\n",
      "Connection to remote host was lost.\n"
     ]
    }
   ],
   "source": [
    "assets = asset_balances['info']['result']\n",
    "for coin in assets:\n",
    "    print(f\"{coin['coin']}: {coin['usdValue']}\")"
   ]
  },
  {
   "cell_type": "code",
   "execution_count": 10,
   "id": "f9a6cd35",
   "metadata": {},
   "outputs": [],
   "source": [
    "orders = exchange.fetchOrders()"
   ]
  },
  {
   "cell_type": "code",
   "execution_count": 12,
   "id": "0d96d627",
   "metadata": {
    "scrolled": true
   },
   "outputs": [
    {
     "data": {
      "text/plain": [
       "[{'info': {'id': '7999861973',\n",
       "   'clientId': 'web-Vn31VZJf-1665470831645',\n",
       "   'market': 'BTC/USD',\n",
       "   'type': 'limit',\n",
       "   'side': 'buy',\n",
       "   'price': '18950.0',\n",
       "   'size': '0.0005',\n",
       "   'status': 'closed',\n",
       "   'filledSize': '0.0005',\n",
       "   'remainingSize': '0.0',\n",
       "   'reduceOnly': False,\n",
       "   'liquidation': False,\n",
       "   'avgFillPrice': '18950.0',\n",
       "   'postOnly': False,\n",
       "   'ioc': False,\n",
       "   'createdAt': '2022-10-11T06:47:11.798682+00:00',\n",
       "   'future': None,\n",
       "   'twapOrderId': None},\n",
       "  'id': '7999861973',\n",
       "  'clientOrderId': 'web-Vn31VZJf-1665470831645',\n",
       "  'timestamp': 1665470831798,\n",
       "  'datetime': '2022-10-11T06:47:11.798Z',\n",
       "  'lastTradeTimestamp': None,\n",
       "  'symbol': 'BTC/USD',\n",
       "  'type': 'limit',\n",
       "  'timeInForce': None,\n",
       "  'postOnly': False,\n",
       "  'reduceOnly': False,\n",
       "  'side': 'buy',\n",
       "  'price': 18950.0,\n",
       "  'stopPrice': None,\n",
       "  'amount': 0.0005,\n",
       "  'cost': 9.475,\n",
       "  'average': 18950.0,\n",
       "  'filled': 0.0005,\n",
       "  'remaining': 0.0,\n",
       "  'status': 'closed',\n",
       "  'fee': None,\n",
       "  'trades': [],\n",
       "  'fees': []},\n",
       " {'info': {'id': '8013311930',\n",
       "   'clientId': 'web-fN6H64Iu-1665555528557',\n",
       "   'market': 'BTC/USD',\n",
       "   'type': 'limit',\n",
       "   'side': 'sell',\n",
       "   'price': '19166.0',\n",
       "   'size': '0.0005',\n",
       "   'status': 'closed',\n",
       "   'filledSize': '0.0',\n",
       "   'remainingSize': '0.0',\n",
       "   'reduceOnly': False,\n",
       "   'liquidation': False,\n",
       "   'avgFillPrice': None,\n",
       "   'postOnly': False,\n",
       "   'ioc': False,\n",
       "   'createdAt': '2022-10-12T06:18:48.776895+00:00',\n",
       "   'future': None,\n",
       "   'twapOrderId': None},\n",
       "  'id': '8013311930',\n",
       "  'clientOrderId': 'web-fN6H64Iu-1665555528557',\n",
       "  'timestamp': 1665555528776,\n",
       "  'datetime': '2022-10-12T06:18:48.776Z',\n",
       "  'lastTradeTimestamp': None,\n",
       "  'symbol': 'BTC/USD',\n",
       "  'type': 'limit',\n",
       "  'timeInForce': None,\n",
       "  'postOnly': False,\n",
       "  'reduceOnly': False,\n",
       "  'side': 'sell',\n",
       "  'price': 19166.0,\n",
       "  'stopPrice': None,\n",
       "  'amount': 0.0005,\n",
       "  'cost': 0.0,\n",
       "  'average': None,\n",
       "  'filled': 0.0,\n",
       "  'remaining': 0.0005,\n",
       "  'status': 'canceled',\n",
       "  'fee': None,\n",
       "  'trades': [],\n",
       "  'fees': []},\n",
       " {'info': {'id': '8013314614',\n",
       "   'clientId': 'web-WNsYSt38-1665555551773',\n",
       "   'market': 'BTC/USD',\n",
       "   'type': 'limit',\n",
       "   'side': 'sell',\n",
       "   'price': '19166.0',\n",
       "   'size': '0.0005',\n",
       "   'status': 'closed',\n",
       "   'filledSize': '0.0005',\n",
       "   'remainingSize': '0.0',\n",
       "   'reduceOnly': False,\n",
       "   'liquidation': False,\n",
       "   'avgFillPrice': '19166.0',\n",
       "   'postOnly': False,\n",
       "   'ioc': False,\n",
       "   'createdAt': '2022-10-12T06:19:11.934523+00:00',\n",
       "   'future': None,\n",
       "   'twapOrderId': None},\n",
       "  'id': '8013314614',\n",
       "  'clientOrderId': 'web-WNsYSt38-1665555551773',\n",
       "  'timestamp': 1665555551934,\n",
       "  'datetime': '2022-10-12T06:19:11.934Z',\n",
       "  'lastTradeTimestamp': None,\n",
       "  'symbol': 'BTC/USD',\n",
       "  'type': 'limit',\n",
       "  'timeInForce': None,\n",
       "  'postOnly': False,\n",
       "  'reduceOnly': False,\n",
       "  'side': 'sell',\n",
       "  'price': 19166.0,\n",
       "  'stopPrice': None,\n",
       "  'amount': 0.0005,\n",
       "  'cost': 9.583,\n",
       "  'average': 19166.0,\n",
       "  'filled': 0.0005,\n",
       "  'remaining': 0.0,\n",
       "  'status': 'closed',\n",
       "  'fee': None,\n",
       "  'trades': [],\n",
       "  'fees': []},\n",
       " {'info': {'id': '8013493844',\n",
       "   'clientId': 'web-lfw0CwBg-1665556634619',\n",
       "   'market': 'BTC/USD',\n",
       "   'type': 'limit',\n",
       "   'side': 'buy',\n",
       "   'price': '19123.0',\n",
       "   'size': '0.0005',\n",
       "   'status': 'closed',\n",
       "   'filledSize': '0.0005',\n",
       "   'remainingSize': '0.0',\n",
       "   'reduceOnly': False,\n",
       "   'liquidation': False,\n",
       "   'avgFillPrice': '19123.0',\n",
       "   'postOnly': False,\n",
       "   'ioc': False,\n",
       "   'createdAt': '2022-10-12T06:37:14.792081+00:00',\n",
       "   'future': None,\n",
       "   'twapOrderId': None},\n",
       "  'id': '8013493844',\n",
       "  'clientOrderId': 'web-lfw0CwBg-1665556634619',\n",
       "  'timestamp': 1665556634792,\n",
       "  'datetime': '2022-10-12T06:37:14.792Z',\n",
       "  'lastTradeTimestamp': None,\n",
       "  'symbol': 'BTC/USD',\n",
       "  'type': 'limit',\n",
       "  'timeInForce': None,\n",
       "  'postOnly': False,\n",
       "  'reduceOnly': False,\n",
       "  'side': 'buy',\n",
       "  'price': 19123.0,\n",
       "  'stopPrice': None,\n",
       "  'amount': 0.0005,\n",
       "  'cost': 9.5615,\n",
       "  'average': 19123.0,\n",
       "  'filled': 0.0005,\n",
       "  'remaining': 0.0,\n",
       "  'status': 'closed',\n",
       "  'fee': None,\n",
       "  'trades': [],\n",
       "  'fees': []}]"
      ]
     },
     "execution_count": 12,
     "metadata": {},
     "output_type": "execute_result"
    }
   ],
   "source": [
    "orders"
   ]
  },
  {
   "cell_type": "code",
   "execution_count": 11,
   "id": "b4935d4f",
   "metadata": {},
   "outputs": [
    {
     "name": "stdout",
     "output_type": "stream",
     "text": [
      "18950.0\n",
      "19166.0\n",
      "19166.0\n",
      "19123.0\n",
      "Connection to remote host was lost.\n"
     ]
    }
   ],
   "source": [
    "for order in orders:\n",
    "    order_info = order['info']['price']\n",
    "    print(order_info)"
   ]
  },
  {
   "cell_type": "code",
   "execution_count": null,
   "id": "900b1f9b",
   "metadata": {
    "scrolled": false
   },
   "outputs": [],
   "source": [
    "print(orders)"
   ]
  },
  {
   "cell_type": "code",
   "execution_count": 15,
   "id": "999abefa",
   "metadata": {
    "scrolled": true
   },
   "outputs": [],
   "source": [
    "open_orders = exchange.fetchOpenOrders('BTC/USD')"
   ]
  },
  {
   "cell_type": "code",
   "execution_count": 19,
   "id": "e34379e3",
   "metadata": {},
   "outputs": [],
   "source": [
    "sell_open_orders = [order for order in open_orders if \n",
    "                    order['side'] == 'buy']"
   ]
  },
  {
   "cell_type": "code",
   "execution_count": 23,
   "id": "3b8a8592",
   "metadata": {},
   "outputs": [
    {
     "name": "stdout",
     "output_type": "stream",
     "text": [
      "Help on method create_post_only_order in module ccxt.base.exchange:\n",
      "\n",
      "create_post_only_order(symbol, type, side, amount, price, params={}) method of ccxt.ftxus.ftxus instance\n",
      "\n",
      "Connection to remote host was lost.\n",
      "Connection to remote host was lost.\n"
     ]
    }
   ],
   "source": [
    "help(exchange.createPostOnlyOrder)"
   ]
  },
  {
   "cell_type": "code",
   "execution_count": 25,
   "id": "aecebd35",
   "metadata": {},
   "outputs": [],
   "source": [
    "symbol = 'BTC/USD'\n",
    "order_type = 'limit'\n",
    "side = 'sell'\n",
    "amount = '0.0001'\n",
    "price = '20000'"
   ]
  },
  {
   "cell_type": "code",
   "execution_count": 26,
   "id": "e6bf3410",
   "metadata": {
    "scrolled": false
   },
   "outputs": [
    {
     "ename": "ExchangeError",
     "evalue": "ftxus {\"success\":false,\"error\":\"Not allowed with read-only permissions\",\"errorCode\":\"not_logged_in\"}",
     "output_type": "error",
     "traceback": [
      "\u001b[0;31m---------------------------------------------------------------------------\u001b[0m",
      "\u001b[0;31mHTTPError\u001b[0m                                 Traceback (most recent call last)",
      "\u001b[0;32m~/miniconda3/envs/binance/lib/python3.7/site-packages/ccxt/base/exchange.py\u001b[0m in \u001b[0;36mfetch\u001b[0;34m(self, url, method, headers, body)\u001b[0m\n\u001b[1;32m    619\u001b[0m             \u001b[0mself\u001b[0m\u001b[0;34m.\u001b[0m\u001b[0mlogger\u001b[0m\u001b[0;34m.\u001b[0m\u001b[0mdebug\u001b[0m\u001b[0;34m(\u001b[0m\u001b[0;34m\"%s %s, Response: %s %s %s\"\u001b[0m\u001b[0;34m,\u001b[0m \u001b[0mmethod\u001b[0m\u001b[0;34m,\u001b[0m \u001b[0murl\u001b[0m\u001b[0;34m,\u001b[0m \u001b[0mhttp_status_code\u001b[0m\u001b[0;34m,\u001b[0m \u001b[0mheaders\u001b[0m\u001b[0;34m,\u001b[0m \u001b[0mhttp_response\u001b[0m\u001b[0;34m)\u001b[0m\u001b[0;34m\u001b[0m\u001b[0;34m\u001b[0m\u001b[0m\n\u001b[0;32m--> 620\u001b[0;31m             \u001b[0mresponse\u001b[0m\u001b[0;34m.\u001b[0m\u001b[0mraise_for_status\u001b[0m\u001b[0;34m(\u001b[0m\u001b[0;34m)\u001b[0m\u001b[0;34m\u001b[0m\u001b[0;34m\u001b[0m\u001b[0m\n\u001b[0m\u001b[1;32m    621\u001b[0m \u001b[0;34m\u001b[0m\u001b[0m\n",
      "\u001b[0;32m~/miniconda3/envs/binance/lib/python3.7/site-packages/requests/models.py\u001b[0m in \u001b[0;36mraise_for_status\u001b[0;34m(self)\u001b[0m\n\u001b[1;32m   1020\u001b[0m         \u001b[0;32mif\u001b[0m \u001b[0mhttp_error_msg\u001b[0m\u001b[0;34m:\u001b[0m\u001b[0;34m\u001b[0m\u001b[0;34m\u001b[0m\u001b[0m\n\u001b[0;32m-> 1021\u001b[0;31m             \u001b[0;32mraise\u001b[0m \u001b[0mHTTPError\u001b[0m\u001b[0;34m(\u001b[0m\u001b[0mhttp_error_msg\u001b[0m\u001b[0;34m,\u001b[0m \u001b[0mresponse\u001b[0m\u001b[0;34m=\u001b[0m\u001b[0mself\u001b[0m\u001b[0;34m)\u001b[0m\u001b[0;34m\u001b[0m\u001b[0;34m\u001b[0m\u001b[0m\n\u001b[0m\u001b[1;32m   1022\u001b[0m \u001b[0;34m\u001b[0m\u001b[0m\n",
      "\u001b[0;31mHTTPError\u001b[0m: 401 Client Error: Unauthorized for url: https://ftx.us/api/orders",
      "\nDuring handling of the above exception, another exception occurred:\n",
      "\u001b[0;31mExchangeError\u001b[0m                             Traceback (most recent call last)",
      "\u001b[0;32m/tmp/ipykernel_1149109/420606772.py\u001b[0m in \u001b[0;36m<module>\u001b[0;34m\u001b[0m\n\u001b[0;32m----> 1\u001b[0;31m \u001b[0mexchange\u001b[0m\u001b[0;34m.\u001b[0m\u001b[0mcreatePostOnlyOrder\u001b[0m\u001b[0;34m(\u001b[0m\u001b[0msymbol\u001b[0m\u001b[0;34m,\u001b[0m \u001b[0morder_type\u001b[0m\u001b[0;34m,\u001b[0m \u001b[0mside\u001b[0m\u001b[0;34m,\u001b[0m \u001b[0mamount\u001b[0m\u001b[0;34m,\u001b[0m \u001b[0mprice\u001b[0m\u001b[0;34m)\u001b[0m\u001b[0;34m\u001b[0m\u001b[0;34m\u001b[0m\u001b[0m\n\u001b[0m",
      "\u001b[0;32m~/miniconda3/envs/binance/lib/python3.7/site-packages/ccxt/base/exchange.py\u001b[0m in \u001b[0;36mcreate_post_only_order\u001b[0;34m(self, symbol, type, side, amount, price, params)\u001b[0m\n\u001b[1;32m   3066\u001b[0m             \u001b[0;32mraise\u001b[0m \u001b[0mNotSupported\u001b[0m\u001b[0;34m(\u001b[0m\u001b[0mself\u001b[0m\u001b[0;34m.\u001b[0m\u001b[0mid\u001b[0m \u001b[0;34m+\u001b[0m \u001b[0;34m'createPostOnlyOrder() is not supported yet'\u001b[0m\u001b[0;34m)\u001b[0m\u001b[0;34m\u001b[0m\u001b[0;34m\u001b[0m\u001b[0m\n\u001b[1;32m   3067\u001b[0m         \u001b[0mquery\u001b[0m \u001b[0;34m=\u001b[0m \u001b[0mself\u001b[0m\u001b[0;34m.\u001b[0m\u001b[0mextend\u001b[0m\u001b[0;34m(\u001b[0m\u001b[0mparams\u001b[0m\u001b[0;34m,\u001b[0m \u001b[0;34m{\u001b[0m\u001b[0;34m'postOnly'\u001b[0m\u001b[0;34m:\u001b[0m \u001b[0;32mTrue\u001b[0m\u001b[0;34m}\u001b[0m\u001b[0;34m)\u001b[0m\u001b[0;34m\u001b[0m\u001b[0;34m\u001b[0m\u001b[0m\n\u001b[0;32m-> 3068\u001b[0;31m         \u001b[0;32mreturn\u001b[0m \u001b[0mself\u001b[0m\u001b[0;34m.\u001b[0m\u001b[0mcreate_order\u001b[0m\u001b[0;34m(\u001b[0m\u001b[0msymbol\u001b[0m\u001b[0;34m,\u001b[0m \u001b[0mtype\u001b[0m\u001b[0;34m,\u001b[0m \u001b[0mside\u001b[0m\u001b[0;34m,\u001b[0m \u001b[0mamount\u001b[0m\u001b[0;34m,\u001b[0m \u001b[0mprice\u001b[0m\u001b[0;34m,\u001b[0m \u001b[0mquery\u001b[0m\u001b[0;34m)\u001b[0m\u001b[0;34m\u001b[0m\u001b[0;34m\u001b[0m\u001b[0m\n\u001b[0m\u001b[1;32m   3069\u001b[0m \u001b[0;34m\u001b[0m\u001b[0m\n\u001b[1;32m   3070\u001b[0m     \u001b[0;32mdef\u001b[0m \u001b[0mcreate_reduce_only_order\u001b[0m\u001b[0;34m(\u001b[0m\u001b[0mself\u001b[0m\u001b[0;34m,\u001b[0m \u001b[0msymbol\u001b[0m\u001b[0;34m,\u001b[0m \u001b[0mtype\u001b[0m\u001b[0;34m,\u001b[0m \u001b[0mside\u001b[0m\u001b[0;34m,\u001b[0m \u001b[0mamount\u001b[0m\u001b[0;34m,\u001b[0m \u001b[0mprice\u001b[0m\u001b[0;34m,\u001b[0m \u001b[0mparams\u001b[0m\u001b[0;34m=\u001b[0m\u001b[0;34m{\u001b[0m\u001b[0;34m}\u001b[0m\u001b[0;34m)\u001b[0m\u001b[0;34m:\u001b[0m\u001b[0;34m\u001b[0m\u001b[0;34m\u001b[0m\u001b[0m\n",
      "\u001b[0;32m~/miniconda3/envs/binance/lib/python3.7/site-packages/ccxt/ftx.py\u001b[0m in \u001b[0;36mcreate_order\u001b[0;34m(self, symbol, type, side, amount, price, params)\u001b[0m\n\u001b[1;32m   1650\u001b[0m         \u001b[0;32melse\u001b[0m\u001b[0;34m:\u001b[0m\u001b[0;34m\u001b[0m\u001b[0;34m\u001b[0m\u001b[0m\n\u001b[1;32m   1651\u001b[0m             \u001b[0;32mraise\u001b[0m \u001b[0mInvalidOrder\u001b[0m\u001b[0;34m(\u001b[0m\u001b[0mself\u001b[0m\u001b[0;34m.\u001b[0m\u001b[0mid\u001b[0m \u001b[0;34m+\u001b[0m \u001b[0;34m' createOrder() does not support order type '\u001b[0m \u001b[0;34m+\u001b[0m \u001b[0mtype\u001b[0m \u001b[0;34m+\u001b[0m \u001b[0;34m', only limit, market, stop, trailingStop, or takeProfit orders are supported'\u001b[0m\u001b[0;34m)\u001b[0m\u001b[0;34m\u001b[0m\u001b[0;34m\u001b[0m\u001b[0m\n\u001b[0;32m-> 1652\u001b[0;31m         \u001b[0mresponse\u001b[0m \u001b[0;34m=\u001b[0m \u001b[0mgetattr\u001b[0m\u001b[0;34m(\u001b[0m\u001b[0mself\u001b[0m\u001b[0;34m,\u001b[0m \u001b[0mmethod\u001b[0m\u001b[0;34m)\u001b[0m\u001b[0;34m(\u001b[0m\u001b[0mself\u001b[0m\u001b[0;34m.\u001b[0m\u001b[0mextend\u001b[0m\u001b[0;34m(\u001b[0m\u001b[0mrequest\u001b[0m\u001b[0;34m,\u001b[0m \u001b[0mparams\u001b[0m\u001b[0;34m)\u001b[0m\u001b[0;34m)\u001b[0m\u001b[0;34m\u001b[0m\u001b[0;34m\u001b[0m\u001b[0m\n\u001b[0m\u001b[1;32m   1653\u001b[0m         \u001b[0;31m#\u001b[0m\u001b[0;34m\u001b[0m\u001b[0;34m\u001b[0m\u001b[0;34m\u001b[0m\u001b[0m\n\u001b[1;32m   1654\u001b[0m         \u001b[0;31m# regular orders\u001b[0m\u001b[0;34m\u001b[0m\u001b[0;34m\u001b[0m\u001b[0;34m\u001b[0m\u001b[0m\n",
      "\u001b[0;32m~/miniconda3/envs/binance/lib/python3.7/site-packages/ccxt/base/exchange.py\u001b[0m in \u001b[0;36minner\u001b[0;34m(_self, params, context)\u001b[0m\n\u001b[1;32m    498\u001b[0m                 \u001b[0;32mif\u001b[0m \u001b[0mcontext\u001b[0m \u001b[0;32mis\u001b[0m \u001b[0;32mnot\u001b[0m \u001b[0;32mNone\u001b[0m\u001b[0;34m:\u001b[0m\u001b[0;34m\u001b[0m\u001b[0;34m\u001b[0m\u001b[0m\n\u001b[1;32m    499\u001b[0m                     \u001b[0minner_kwargs\u001b[0m\u001b[0;34m[\u001b[0m\u001b[0;34m'context'\u001b[0m\u001b[0;34m]\u001b[0m \u001b[0;34m=\u001b[0m \u001b[0mparams\u001b[0m\u001b[0;34m\u001b[0m\u001b[0;34m\u001b[0m\u001b[0m\n\u001b[0;32m--> 500\u001b[0;31m                 \u001b[0;32mreturn\u001b[0m \u001b[0mentry\u001b[0m\u001b[0;34m(\u001b[0m\u001b[0m_self\u001b[0m\u001b[0;34m,\u001b[0m \u001b[0;34m**\u001b[0m\u001b[0minner_kwargs\u001b[0m\u001b[0;34m)\u001b[0m\u001b[0;34m\u001b[0m\u001b[0;34m\u001b[0m\u001b[0m\n\u001b[0m\u001b[1;32m    501\u001b[0m             \u001b[0;32mreturn\u001b[0m \u001b[0minner\u001b[0m\u001b[0;34m\u001b[0m\u001b[0;34m\u001b[0m\u001b[0m\n\u001b[1;32m    502\u001b[0m         \u001b[0mto_bind\u001b[0m \u001b[0;34m=\u001b[0m \u001b[0mpartialer\u001b[0m\u001b[0;34m(\u001b[0m\u001b[0;34m)\u001b[0m\u001b[0;34m\u001b[0m\u001b[0;34m\u001b[0m\u001b[0m\n",
      "\u001b[0;32m~/miniconda3/envs/binance/lib/python3.7/site-packages/ccxt/base/exchange.py\u001b[0m in \u001b[0;36mrequest\u001b[0;34m(self, path, api, method, params, headers, body, config, context)\u001b[0m\n\u001b[1;32m   2608\u001b[0m \u001b[0;34m\u001b[0m\u001b[0m\n\u001b[1;32m   2609\u001b[0m     \u001b[0;32mdef\u001b[0m \u001b[0mrequest\u001b[0m\u001b[0;34m(\u001b[0m\u001b[0mself\u001b[0m\u001b[0;34m,\u001b[0m \u001b[0mpath\u001b[0m\u001b[0;34m,\u001b[0m \u001b[0mapi\u001b[0m\u001b[0;34m=\u001b[0m\u001b[0;34m'public'\u001b[0m\u001b[0;34m,\u001b[0m \u001b[0mmethod\u001b[0m\u001b[0;34m=\u001b[0m\u001b[0;34m'GET'\u001b[0m\u001b[0;34m,\u001b[0m \u001b[0mparams\u001b[0m\u001b[0;34m=\u001b[0m\u001b[0;34m{\u001b[0m\u001b[0;34m}\u001b[0m\u001b[0;34m,\u001b[0m \u001b[0mheaders\u001b[0m\u001b[0;34m=\u001b[0m\u001b[0;32mNone\u001b[0m\u001b[0;34m,\u001b[0m \u001b[0mbody\u001b[0m\u001b[0;34m=\u001b[0m\u001b[0;32mNone\u001b[0m\u001b[0;34m,\u001b[0m \u001b[0mconfig\u001b[0m\u001b[0;34m=\u001b[0m\u001b[0;34m{\u001b[0m\u001b[0;34m}\u001b[0m\u001b[0;34m,\u001b[0m \u001b[0mcontext\u001b[0m\u001b[0;34m=\u001b[0m\u001b[0;34m{\u001b[0m\u001b[0;34m}\u001b[0m\u001b[0;34m)\u001b[0m\u001b[0;34m:\u001b[0m\u001b[0;34m\u001b[0m\u001b[0;34m\u001b[0m\u001b[0m\n\u001b[0;32m-> 2610\u001b[0;31m         \u001b[0;32mreturn\u001b[0m \u001b[0mself\u001b[0m\u001b[0;34m.\u001b[0m\u001b[0mfetch2\u001b[0m\u001b[0;34m(\u001b[0m\u001b[0mpath\u001b[0m\u001b[0;34m,\u001b[0m \u001b[0mapi\u001b[0m\u001b[0;34m,\u001b[0m \u001b[0mmethod\u001b[0m\u001b[0;34m,\u001b[0m \u001b[0mparams\u001b[0m\u001b[0;34m,\u001b[0m \u001b[0mheaders\u001b[0m\u001b[0;34m,\u001b[0m \u001b[0mbody\u001b[0m\u001b[0;34m,\u001b[0m \u001b[0mconfig\u001b[0m\u001b[0;34m,\u001b[0m \u001b[0mcontext\u001b[0m\u001b[0;34m)\u001b[0m\u001b[0;34m\u001b[0m\u001b[0;34m\u001b[0m\u001b[0m\n\u001b[0m\u001b[1;32m   2611\u001b[0m \u001b[0;34m\u001b[0m\u001b[0m\n\u001b[1;32m   2612\u001b[0m     \u001b[0;32mdef\u001b[0m \u001b[0mload_accounts\u001b[0m\u001b[0;34m(\u001b[0m\u001b[0mself\u001b[0m\u001b[0;34m,\u001b[0m \u001b[0mreload\u001b[0m\u001b[0;34m=\u001b[0m\u001b[0;32mFalse\u001b[0m\u001b[0;34m,\u001b[0m \u001b[0mparams\u001b[0m\u001b[0;34m=\u001b[0m\u001b[0;34m{\u001b[0m\u001b[0;34m}\u001b[0m\u001b[0;34m)\u001b[0m\u001b[0;34m:\u001b[0m\u001b[0;34m\u001b[0m\u001b[0;34m\u001b[0m\u001b[0m\n",
      "\u001b[0;32m~/miniconda3/envs/binance/lib/python3.7/site-packages/ccxt/base/exchange.py\u001b[0m in \u001b[0;36mfetch2\u001b[0;34m(self, path, api, method, params, headers, body, config, context)\u001b[0m\n\u001b[1;32m   2605\u001b[0m         \u001b[0mself\u001b[0m\u001b[0;34m.\u001b[0m\u001b[0mlastRestRequestTimestamp\u001b[0m \u001b[0;34m=\u001b[0m \u001b[0mself\u001b[0m\u001b[0;34m.\u001b[0m\u001b[0mmilliseconds\u001b[0m\u001b[0;34m(\u001b[0m\u001b[0;34m)\u001b[0m\u001b[0;34m\u001b[0m\u001b[0;34m\u001b[0m\u001b[0m\n\u001b[1;32m   2606\u001b[0m         \u001b[0mrequest\u001b[0m \u001b[0;34m=\u001b[0m \u001b[0mself\u001b[0m\u001b[0;34m.\u001b[0m\u001b[0msign\u001b[0m\u001b[0;34m(\u001b[0m\u001b[0mpath\u001b[0m\u001b[0;34m,\u001b[0m \u001b[0mapi\u001b[0m\u001b[0;34m,\u001b[0m \u001b[0mmethod\u001b[0m\u001b[0;34m,\u001b[0m \u001b[0mparams\u001b[0m\u001b[0;34m,\u001b[0m \u001b[0mheaders\u001b[0m\u001b[0;34m,\u001b[0m \u001b[0mbody\u001b[0m\u001b[0;34m)\u001b[0m\u001b[0;34m\u001b[0m\u001b[0;34m\u001b[0m\u001b[0m\n\u001b[0;32m-> 2607\u001b[0;31m         \u001b[0;32mreturn\u001b[0m \u001b[0mself\u001b[0m\u001b[0;34m.\u001b[0m\u001b[0mfetch\u001b[0m\u001b[0;34m(\u001b[0m\u001b[0mrequest\u001b[0m\u001b[0;34m[\u001b[0m\u001b[0;34m'url'\u001b[0m\u001b[0;34m]\u001b[0m\u001b[0;34m,\u001b[0m \u001b[0mrequest\u001b[0m\u001b[0;34m[\u001b[0m\u001b[0;34m'method'\u001b[0m\u001b[0;34m]\u001b[0m\u001b[0;34m,\u001b[0m \u001b[0mrequest\u001b[0m\u001b[0;34m[\u001b[0m\u001b[0;34m'headers'\u001b[0m\u001b[0;34m]\u001b[0m\u001b[0;34m,\u001b[0m \u001b[0mrequest\u001b[0m\u001b[0;34m[\u001b[0m\u001b[0;34m'body'\u001b[0m\u001b[0;34m]\u001b[0m\u001b[0;34m)\u001b[0m\u001b[0;34m\u001b[0m\u001b[0;34m\u001b[0m\u001b[0m\n\u001b[0m\u001b[1;32m   2608\u001b[0m \u001b[0;34m\u001b[0m\u001b[0m\n\u001b[1;32m   2609\u001b[0m     \u001b[0;32mdef\u001b[0m \u001b[0mrequest\u001b[0m\u001b[0;34m(\u001b[0m\u001b[0mself\u001b[0m\u001b[0;34m,\u001b[0m \u001b[0mpath\u001b[0m\u001b[0;34m,\u001b[0m \u001b[0mapi\u001b[0m\u001b[0;34m=\u001b[0m\u001b[0;34m'public'\u001b[0m\u001b[0;34m,\u001b[0m \u001b[0mmethod\u001b[0m\u001b[0;34m=\u001b[0m\u001b[0;34m'GET'\u001b[0m\u001b[0;34m,\u001b[0m \u001b[0mparams\u001b[0m\u001b[0;34m=\u001b[0m\u001b[0;34m{\u001b[0m\u001b[0;34m}\u001b[0m\u001b[0;34m,\u001b[0m \u001b[0mheaders\u001b[0m\u001b[0;34m=\u001b[0m\u001b[0;32mNone\u001b[0m\u001b[0;34m,\u001b[0m \u001b[0mbody\u001b[0m\u001b[0;34m=\u001b[0m\u001b[0;32mNone\u001b[0m\u001b[0;34m,\u001b[0m \u001b[0mconfig\u001b[0m\u001b[0;34m=\u001b[0m\u001b[0;34m{\u001b[0m\u001b[0;34m}\u001b[0m\u001b[0;34m,\u001b[0m \u001b[0mcontext\u001b[0m\u001b[0;34m=\u001b[0m\u001b[0;34m{\u001b[0m\u001b[0;34m}\u001b[0m\u001b[0;34m)\u001b[0m\u001b[0;34m:\u001b[0m\u001b[0;34m\u001b[0m\u001b[0;34m\u001b[0m\u001b[0m\n",
      "\u001b[0;32m~/miniconda3/envs/binance/lib/python3.7/site-packages/ccxt/base/exchange.py\u001b[0m in \u001b[0;36mfetch\u001b[0;34m(self, url, method, headers, body)\u001b[0m\n\u001b[1;32m    634\u001b[0m         \u001b[0;32mexcept\u001b[0m \u001b[0mHTTPError\u001b[0m \u001b[0;32mas\u001b[0m \u001b[0me\u001b[0m\u001b[0;34m:\u001b[0m\u001b[0;34m\u001b[0m\u001b[0;34m\u001b[0m\u001b[0m\n\u001b[1;32m    635\u001b[0m             \u001b[0mdetails\u001b[0m \u001b[0;34m=\u001b[0m \u001b[0;34m' '\u001b[0m\u001b[0;34m.\u001b[0m\u001b[0mjoin\u001b[0m\u001b[0;34m(\u001b[0m\u001b[0;34m[\u001b[0m\u001b[0mself\u001b[0m\u001b[0;34m.\u001b[0m\u001b[0mid\u001b[0m\u001b[0;34m,\u001b[0m \u001b[0mmethod\u001b[0m\u001b[0;34m,\u001b[0m \u001b[0murl\u001b[0m\u001b[0;34m]\u001b[0m\u001b[0;34m)\u001b[0m\u001b[0;34m\u001b[0m\u001b[0;34m\u001b[0m\u001b[0m\n\u001b[0;32m--> 636\u001b[0;31m             \u001b[0mskip_further_error_handling\u001b[0m \u001b[0;34m=\u001b[0m \u001b[0mself\u001b[0m\u001b[0;34m.\u001b[0m\u001b[0mhandle_errors\u001b[0m\u001b[0;34m(\u001b[0m\u001b[0mhttp_status_code\u001b[0m\u001b[0;34m,\u001b[0m \u001b[0mhttp_status_text\u001b[0m\u001b[0;34m,\u001b[0m \u001b[0murl\u001b[0m\u001b[0;34m,\u001b[0m \u001b[0mmethod\u001b[0m\u001b[0;34m,\u001b[0m \u001b[0mheaders\u001b[0m\u001b[0;34m,\u001b[0m \u001b[0mhttp_response\u001b[0m\u001b[0;34m,\u001b[0m \u001b[0mjson_response\u001b[0m\u001b[0;34m,\u001b[0m \u001b[0mrequest_headers\u001b[0m\u001b[0;34m,\u001b[0m \u001b[0mrequest_body\u001b[0m\u001b[0;34m)\u001b[0m\u001b[0;34m\u001b[0m\u001b[0;34m\u001b[0m\u001b[0m\n\u001b[0m\u001b[1;32m    637\u001b[0m             \u001b[0;32mif\u001b[0m \u001b[0;32mnot\u001b[0m \u001b[0mskip_further_error_handling\u001b[0m\u001b[0;34m:\u001b[0m\u001b[0;34m\u001b[0m\u001b[0;34m\u001b[0m\u001b[0m\n\u001b[1;32m    638\u001b[0m                 \u001b[0mself\u001b[0m\u001b[0;34m.\u001b[0m\u001b[0mhandle_http_status_code\u001b[0m\u001b[0;34m(\u001b[0m\u001b[0mhttp_status_code\u001b[0m\u001b[0;34m,\u001b[0m \u001b[0mhttp_status_text\u001b[0m\u001b[0;34m,\u001b[0m \u001b[0murl\u001b[0m\u001b[0;34m,\u001b[0m \u001b[0mmethod\u001b[0m\u001b[0;34m,\u001b[0m \u001b[0mhttp_response\u001b[0m\u001b[0;34m)\u001b[0m\u001b[0;34m\u001b[0m\u001b[0;34m\u001b[0m\u001b[0m\n",
      "\u001b[0;32m~/miniconda3/envs/binance/lib/python3.7/site-packages/ccxt/ftx.py\u001b[0m in \u001b[0;36mhandle_errors\u001b[0;34m(self, code, reason, url, method, headers, body, response, requestHeaders, requestBody)\u001b[0m\n\u001b[1;32m   2595\u001b[0m             \u001b[0mself\u001b[0m\u001b[0;34m.\u001b[0m\u001b[0mthrow_exactly_matched_exception\u001b[0m\u001b[0;34m(\u001b[0m\u001b[0mself\u001b[0m\u001b[0;34m.\u001b[0m\u001b[0mexceptions\u001b[0m\u001b[0;34m[\u001b[0m\u001b[0;34m'exact'\u001b[0m\u001b[0;34m]\u001b[0m\u001b[0;34m,\u001b[0m \u001b[0merror\u001b[0m\u001b[0;34m,\u001b[0m \u001b[0mfeedback\u001b[0m\u001b[0;34m)\u001b[0m\u001b[0;34m\u001b[0m\u001b[0;34m\u001b[0m\u001b[0m\n\u001b[1;32m   2596\u001b[0m             \u001b[0mself\u001b[0m\u001b[0;34m.\u001b[0m\u001b[0mthrow_broadly_matched_exception\u001b[0m\u001b[0;34m(\u001b[0m\u001b[0mself\u001b[0m\u001b[0;34m.\u001b[0m\u001b[0mexceptions\u001b[0m\u001b[0;34m[\u001b[0m\u001b[0;34m'broad'\u001b[0m\u001b[0;34m]\u001b[0m\u001b[0;34m,\u001b[0m \u001b[0merror\u001b[0m\u001b[0;34m,\u001b[0m \u001b[0mfeedback\u001b[0m\u001b[0;34m)\u001b[0m\u001b[0;34m\u001b[0m\u001b[0;34m\u001b[0m\u001b[0m\n\u001b[0;32m-> 2597\u001b[0;31m             \u001b[0;32mraise\u001b[0m \u001b[0mExchangeError\u001b[0m\u001b[0;34m(\u001b[0m\u001b[0mfeedback\u001b[0m\u001b[0;34m)\u001b[0m  \u001b[0;31m# unknown message\u001b[0m\u001b[0;34m\u001b[0m\u001b[0;34m\u001b[0m\u001b[0m\n\u001b[0m\u001b[1;32m   2598\u001b[0m \u001b[0;34m\u001b[0m\u001b[0m\n\u001b[1;32m   2599\u001b[0m     \u001b[0;32mdef\u001b[0m \u001b[0mset_leverage\u001b[0m\u001b[0;34m(\u001b[0m\u001b[0mself\u001b[0m\u001b[0;34m,\u001b[0m \u001b[0mleverage\u001b[0m\u001b[0;34m,\u001b[0m \u001b[0msymbol\u001b[0m\u001b[0;34m=\u001b[0m\u001b[0;32mNone\u001b[0m\u001b[0;34m,\u001b[0m \u001b[0mparams\u001b[0m\u001b[0;34m=\u001b[0m\u001b[0;34m{\u001b[0m\u001b[0;34m}\u001b[0m\u001b[0;34m)\u001b[0m\u001b[0;34m:\u001b[0m\u001b[0;34m\u001b[0m\u001b[0;34m\u001b[0m\u001b[0m\n",
      "\u001b[0;31mExchangeError\u001b[0m: ftxus {\"success\":false,\"error\":\"Not allowed with read-only permissions\",\"errorCode\":\"not_logged_in\"}"
     ]
    },
    {
     "name": "stdout",
     "output_type": "stream",
     "text": [
      "Connection to remote host was lost.\n",
      "Connection to remote host was lost.\n",
      "Connection to remote host was lost.\n",
      "Connection to remote host was lost.\n",
      "Connection to remote host was lost.\n",
      "Connection to remote host was lost.\n",
      "Connection to remote host was lost.\n",
      "Connection to remote host was lost.\n",
      "Connection to remote host was lost.\n",
      "Connection to remote host was lost.\n",
      "Connection to remote host was lost.\n",
      "Connection to remote host was lost.\n",
      "Connection to remote host was lost.\n",
      "Connection to remote host was lost.\n",
      "Connection to remote host was lost.\n",
      "Connection to remote host was lost.\n",
      "Connection to remote host was lost.\n",
      "Connection to remote host was lost.\n",
      "Connection to remote host was lost.\n",
      "Connection to remote host was lost.\n",
      "Connection to remote host was lost.\n",
      "Connection to remote host was lost.\n",
      "Connection to remote host was lost.\n",
      "Connection to remote host was lost.\n",
      "Connection to remote host was lost.\n",
      "Connection to remote host was lost.\n",
      "Connection to remote host was lost.\n",
      "Connection to remote host was lost.\n",
      "Connection to remote host was lost.\n",
      "Connection to remote host was lost.\n",
      "Connection to remote host was lost.\n",
      "Connection to remote host was lost.\n",
      "Connection to remote host was lost.\n",
      "Connection to remote host was lost.\n",
      "Connection to remote host was lost.\n",
      "Connection to remote host was lost.\n",
      "Connection to remote host was lost.\n",
      "Connection to remote host was lost.\n",
      "Connection to remote host was lost.\n",
      "Connection to remote host was lost.\n",
      "Connection to remote host was lost.\n",
      "Connection to remote host was lost.\n",
      "Connection to remote host was lost.\n",
      "Connection to remote host was lost.\n",
      "Connection to remote host was lost.\n",
      "Connection to remote host was lost.\n",
      "Connection to remote host was lost.\n",
      "Connection to remote host was lost.\n",
      "Connection to remote host was lost.\n",
      "Connection to remote host was lost.\n",
      "Connection to remote host was lost.\n",
      "Connection to remote host was lost.\n",
      "Connection to remote host was lost.\n",
      "Connection to remote host was lost.\n",
      "Connection to remote host was lost.\n",
      "Connection to remote host was lost.\n",
      "Connection to remote host was lost.\n",
      "Connection to remote host was lost.\n",
      "Connection to remote host was lost.\n",
      "Connection to remote host was lost.\n",
      "Connection to remote host was lost.\n",
      "Connection to remote host was lost.\n",
      "Connection to remote host was lost.\n",
      "Connection to remote host was lost.\n",
      "Connection to remote host was lost.\n",
      "Connection to remote host was lost.\n",
      "Connection to remote host was lost.\n",
      "Connection to remote host was lost.\n",
      "Connection to remote host was lost.\n",
      "Connection to remote host was lost.\n",
      "Connection to remote host was lost.\n",
      "Connection to remote host was lost.\n",
      "Connection to remote host was lost.\n",
      "Connection to remote host was lost.\n",
      "Connection to remote host was lost.\n",
      "Connection to remote host was lost.\n",
      "Connection to remote host was lost.\n",
      "Connection to remote host was lost.\n",
      "Connection to remote host was lost.\n",
      "Connection to remote host was lost.\n",
      "Connection to remote host was lost.\n",
      "Connection to remote host was lost.\n",
      "Connection to remote host was lost.\n",
      "Connection to remote host was lost.\n",
      "Connection to remote host was lost.\n",
      "Connection to remote host was lost.\n",
      "Connection to remote host was lost.\n",
      "Connection to remote host was lost.\n",
      "Connection to remote host was lost.\n",
      "Connection to remote host was lost.\n",
      "Connection to remote host was lost.\n",
      "Connection to remote host was lost.\n",
      "Connection to remote host was lost.\n",
      "Connection to remote host was lost.\n",
      "Connection to remote host was lost.\n",
      "Connection to remote host was lost.\n",
      "Connection to remote host was lost.\n",
      "Connection to remote host was lost.\n",
      "Connection to remote host was lost.\n",
      "Connection to remote host was lost.\n",
      "Connection to remote host was lost.\n",
      "Connection to remote host was lost.\n",
      "Connection to remote host was lost.\n",
      "Connection to remote host was lost.\n",
      "Connection to remote host was lost.\n",
      "Connection to remote host was lost.\n",
      "Connection to remote host was lost.\n",
      "Connection to remote host was lost.\n",
      "Connection to remote host was lost.\n",
      "Connection to remote host was lost.\n",
      "Connection to remote host was lost.\n",
      "Connection to remote host was lost.\n",
      "Connection to remote host was lost.\n",
      "Connection to remote host was lost.\n",
      "Connection to remote host was lost.\n",
      "Connection to remote host was lost.\n",
      "Connection to remote host was lost.\n",
      "Connection to remote host was lost.\n",
      "Connection to remote host was lost.\n",
      "Connection to remote host was lost.\n",
      "Connection to remote host was lost.\n",
      "Connection to remote host was lost.\n",
      "Connection to remote host was lost.\n",
      "Connection to remote host was lost.\n",
      "Connection to remote host was lost.\n",
      "Connection to remote host was lost.\n",
      "Connection to remote host was lost.\n",
      "Connection to remote host was lost.\n",
      "Connection to remote host was lost.\n",
      "Connection to remote host was lost.\n",
      "Connection to remote host was lost.\n",
      "Connection to remote host was lost.\n",
      "Connection to remote host was lost.\n",
      "Connection to remote host was lost.\n",
      "Connection to remote host was lost.\n",
      "Connection to remote host was lost.\n",
      "Connection to remote host was lost.\n",
      "Connection to remote host was lost.\n",
      "Connection to remote host was lost.\n",
      "Connection to remote host was lost.\n",
      "Connection to remote host was lost.\n",
      "Connection to remote host was lost.\n",
      "Connection to remote host was lost.\n",
      "Connection to remote host was lost.\n",
      "Connection to remote host was lost.\n",
      "Connection to remote host was lost.\n",
      "Connection to remote host was lost.\n",
      "Connection to remote host was lost.\n",
      "Connection to remote host was lost.\n",
      "Connection to remote host was lost.\n",
      "Connection to remote host was lost.\n",
      "Connection to remote host was lost.\n",
      "Connection to remote host was lost.\n",
      "Connection to remote host was lost.\n",
      "Connection to remote host was lost.\n",
      "Connection to remote host was lost.\n",
      "Connection to remote host was lost.\n",
      "Connection to remote host was lost.\n",
      "Connection to remote host was lost.\n",
      "Connection to remote host was lost.\n",
      "Connection to remote host was lost.\n",
      "Connection to remote host was lost.\n",
      "Connection to remote host was lost.\n",
      "Connection to remote host was lost.\n",
      "Connection to remote host was lost.\n",
      "Connection to remote host was lost.\n",
      "Connection to remote host was lost.\n",
      "Connection to remote host was lost.\n",
      "Connection to remote host was lost.\n",
      "Connection to remote host was lost.\n",
      "Connection to remote host was lost.\n",
      "Connection to remote host was lost.\n",
      "Connection to remote host was lost.\n",
      "Connection to remote host was lost.\n",
      "Connection to remote host was lost.\n",
      "Connection to remote host was lost.\n",
      "Connection to remote host was lost.\n",
      "Connection to remote host was lost.\n",
      "Connection to remote host was lost.\n",
      "Connection to remote host was lost.\n",
      "Connection to remote host was lost.\n",
      "Connection to remote host was lost.\n",
      "Connection to remote host was lost.\n",
      "Connection to remote host was lost.\n",
      "Connection to remote host was lost.\n",
      "Connection to remote host was lost.\n",
      "Connection to remote host was lost.\n",
      "Connection to remote host was lost.\n",
      "Connection to remote host was lost.\n",
      "Connection to remote host was lost.\n",
      "Connection to remote host was lost.\n",
      "Connection to remote host was lost.\n",
      "Connection to remote host was lost.\n",
      "Connection to remote host was lost.\n",
      "Connection to remote host was lost.\n",
      "Connection to remote host was lost.\n",
      "Connection to remote host was lost.\n",
      "Connection to remote host was lost.\n",
      "Connection to remote host was lost.\n",
      "Connection to remote host was lost.\n",
      "Connection to remote host was lost.\n",
      "Connection to remote host was lost.\n",
      "Connection to remote host was lost.\n",
      "Connection to remote host was lost.\n",
      "Connection to remote host was lost.\n",
      "Connection to remote host was lost.\n",
      "Connection to remote host was lost.\n",
      "Connection to remote host was lost.\n",
      "Connection to remote host was lost.\n",
      "Connection to remote host was lost.\n",
      "Connection timed out[Errno -3] Temporary failure in name resolution\n",
      "\n",
      "[Errno -3] Temporary failure in name resolution\n",
      "[Errno -3] Temporary failure in name resolution\n",
      "[Errno -3] Temporary failure in name resolution\n",
      "[Errno -3] Temporary failure in name resolution\n",
      "Connection to remote host was lost.\n",
      "Connection to remote host was lost.\n",
      "Connection to remote host was lost.\n",
      "Connection to remote host was lost.\n",
      "Connection to remote host was lost.\n",
      "Connection to remote host was lost.\n",
      "Connection to remote host was lost.\n",
      "Connection to remote host was lost.\n",
      "Connection to remote host was lost.\n",
      "Connection to remote host was lost.\n",
      "Connection to remote host was lost.\n"
     ]
    },
    {
     "name": "stdout",
     "output_type": "stream",
     "text": [
      "Connection to remote host was lost.\n",
      "Connection to remote host was lost.\n",
      "Connection to remote host was lost.\n",
      "Connection to remote host was lost.\n",
      "Connection to remote host was lost.\n",
      "Connection to remote host was lost.\n",
      "Connection to remote host was lost.\n",
      "Connection to remote host was lost.\n",
      "Connection to remote host was lost.\n",
      "Connection to remote host was lost.\n",
      "Connection to remote host was lost.\n",
      "Connection to remote host was lost.\n",
      "Connection to remote host was lost.\n",
      "Connection to remote host was lost.\n",
      "Connection to remote host was lost.\n",
      "Connection to remote host was lost.\n",
      "Connection to remote host was lost.\n",
      "Connection to remote host was lost.\n",
      "Connection to remote host was lost.\n",
      "Connection to remote host was lost.\n",
      "Connection to remote host was lost.\n",
      "Connection to remote host was lost.\n",
      "Connection to remote host was lost.\n",
      "Connection to remote host was lost.\n",
      "Connection to remote host was lost.\n",
      "Connection to remote host was lost.\n",
      "Connection to remote host was lost.\n",
      "Connection to remote host was lost.\n",
      "Connection to remote host was lost.\n",
      "Connection to remote host was lost.\n",
      "Connection to remote host was lost.\n",
      "Connection to remote host was lost.\n",
      "Connection to remote host was lost.\n",
      "Connection to remote host was lost.\n",
      "Connection to remote host was lost.\n",
      "Connection to remote host was lost.\n",
      "Connection to remote host was lost.\n",
      "Connection to remote host was lost.\n",
      "Connection to remote host was lost.\n",
      "Connection to remote host was lost.\n",
      "Connection to remote host was lost.\n",
      "Connection to remote host was lost.\n"
     ]
    }
   ],
   "source": [
    "exchange.createPostOnlyOrder(symbol, order_type, side, amount, price)"
   ]
  },
  {
   "cell_type": "code",
   "execution_count": null,
   "id": "91b9eb6f",
   "metadata": {},
   "outputs": [],
   "source": []
  },
  {
   "cell_type": "code",
   "execution_count": null,
   "id": "5e6cdd43",
   "metadata": {},
   "outputs": [],
   "source": []
  },
  {
   "cell_type": "code",
   "execution_count": null,
   "id": "91b6df6a",
   "metadata": {},
   "outputs": [],
   "source": []
  },
  {
   "cell_type": "code",
   "execution_count": null,
   "id": "a2ed6a81",
   "metadata": {},
   "outputs": [],
   "source": []
  },
  {
   "cell_type": "code",
   "execution_count": null,
   "id": "8d771296",
   "metadata": {},
   "outputs": [],
   "source": []
  },
  {
   "cell_type": "code",
   "execution_count": null,
   "id": "f4314d56",
   "metadata": {},
   "outputs": [],
   "source": [
    "import time\n",
    "sample_time = 60 # seconds"
   ]
  },
  {
   "cell_type": "code",
   "execution_count": null,
   "id": "4f0aff62",
   "metadata": {
    "scrolled": true
   },
   "outputs": [],
   "source": [
    "ws.get_orderbook(market='BTC/USD')"
   ]
  },
  {
   "cell_type": "code",
   "execution_count": null,
   "id": "65ed52c1",
   "metadata": {
    "scrolled": true
   },
   "outputs": [],
   "source": [
    "ws._orderbook_timestamps"
   ]
  },
  {
   "cell_type": "code",
   "execution_count": null,
   "id": "54645d5c",
   "metadata": {},
   "outputs": [],
   "source": []
  },
  {
   "cell_type": "code",
   "execution_count": null,
   "id": "968314a4",
   "metadata": {
    "scrolled": true
   },
   "outputs": [],
   "source": [
    "a = ws.get_orderbook(market='BTC/USD')"
   ]
  },
  {
   "cell_type": "code",
   "execution_count": null,
   "id": "72eb49f4",
   "metadata": {
    "scrolled": false
   },
   "outputs": [],
   "source": [
    "a"
   ]
  },
  {
   "cell_type": "code",
   "execution_count": null,
   "id": "262f4114",
   "metadata": {},
   "outputs": [],
   "source": [
    "import numpy as np\n",
    "b = np.zeros((25, 2))\n",
    "\n",
    "start_time = time.time()\n",
    "for ii in range(25):\n",
    "    b[ii, :] = a['bids'][ii]\n",
    "end_time = time.time()\n",
    "\n",
    "print(end_time - start_time)"
   ]
  },
  {
   "cell_type": "code",
   "execution_count": null,
   "id": "3e6822de",
   "metadata": {},
   "outputs": [],
   "source": []
  },
  {
   "cell_type": "code",
   "execution_count": null,
   "id": "d24e4421",
   "metadata": {
    "scrolled": true
   },
   "outputs": [],
   "source": [
    "ws.get_orderbook_timestamp(market='BTC/USD')"
   ]
  },
  {
   "cell_type": "code",
   "execution_count": null,
   "id": "e6733c27",
   "metadata": {},
   "outputs": [],
   "source": [
    "stop_time = time.time() + sample_time\n",
    "\n",
    "orderbook_timestamps = []\n",
    "while (time.time() < stop_time):\n",
    "    orderbook_timestamp = ws.get_orderbook_timestamp(market='BTC/USD')\n",
    "    orderbook_timestamps.append(orderbook_timestamp)"
   ]
  },
  {
   "cell_type": "code",
   "execution_count": null,
   "id": "b77605b6",
   "metadata": {},
   "outputs": [],
   "source": [
    "import pandas as pd\n",
    "import matplotlib.pyplot as plt\n",
    "import numpy as np\n",
    "%matplotlib notebook"
   ]
  },
  {
   "cell_type": "code",
   "execution_count": null,
   "id": "58e63d27",
   "metadata": {},
   "outputs": [],
   "source": [
    "orderbook_ts_df = pd.DataFrame(orderbook_timestamps, columns=['time'])"
   ]
  },
  {
   "cell_type": "code",
   "execution_count": null,
   "id": "e5fcf925",
   "metadata": {},
   "outputs": [],
   "source": [
    "orderbook_ts_df"
   ]
  },
  {
   "cell_type": "code",
   "execution_count": null,
   "id": "e5a1e3ae",
   "metadata": {},
   "outputs": [],
   "source": [
    "orderbook_ts_df['micro_second'] = orderbook_ts_df['time'] * 1000000"
   ]
  },
  {
   "cell_type": "code",
   "execution_count": null,
   "id": "86a1e3b8",
   "metadata": {},
   "outputs": [],
   "source": [
    "orderbook_ts_df['micro_second'].astype(int)\n"
   ]
  },
  {
   "cell_type": "code",
   "execution_count": null,
   "id": "9493324e",
   "metadata": {},
   "outputs": [],
   "source": [
    "orderbook_ts_unique = orderbook_ts_df['micro_second'].unique()"
   ]
  },
  {
   "cell_type": "code",
   "execution_count": null,
   "id": "dd17b7e1",
   "metadata": {
    "scrolled": true
   },
   "outputs": [],
   "source": [
    "len(orderbook_ts_unique)"
   ]
  },
  {
   "cell_type": "code",
   "execution_count": null,
   "id": "f488c309",
   "metadata": {},
   "outputs": [],
   "source": [
    "import numpy as np\n",
    "orderbook_intermessage_arrival_times = np.diff(orderbook_ts_unique)"
   ]
  },
  {
   "cell_type": "code",
   "execution_count": null,
   "id": "0f7745a4",
   "metadata": {
    "scrolled": true
   },
   "outputs": [],
   "source": [
    "orderbook_ts_unique \n",
    "\n",
    "fig = plt.figure()\n",
    "\n",
    "a = plt.hist(orderbook_intermessage_arrival_times / 1000, bins=100)"
   ]
  },
  {
   "cell_type": "code",
   "execution_count": null,
   "id": "c2b2e200",
   "metadata": {},
   "outputs": [],
   "source": [
    "a"
   ]
  },
  {
   "cell_type": "code",
   "execution_count": null,
   "id": "b7049d8f",
   "metadata": {},
   "outputs": [],
   "source": [
    "np.min(orderbook_intermessage_arrival_times) / 1000"
   ]
  },
  {
   "cell_type": "code",
   "execution_count": null,
   "id": "b1e9651f",
   "metadata": {},
   "outputs": [],
   "source": [
    "fig2 = plt.figure()\n",
    "\n",
    "plt.plot(a[1][:-1], a[0].cumsum() / len(orderbook_intermessage_arrival_times))"
   ]
  },
  {
   "cell_type": "code",
   "execution_count": null,
   "id": "052d3362",
   "metadata": {},
   "outputs": [],
   "source": []
  }
 ],
 "metadata": {
  "kernelspec": {
   "display_name": "Python 3 (ipykernel)",
   "language": "python",
   "name": "python3"
  },
  "language_info": {
   "codemirror_mode": {
    "name": "ipython",
    "version": 3
   },
   "file_extension": ".py",
   "mimetype": "text/x-python",
   "name": "python",
   "nbconvert_exporter": "python",
   "pygments_lexer": "ipython3",
   "version": "3.7.13"
  }
 },
 "nbformat": 4,
 "nbformat_minor": 5
}
