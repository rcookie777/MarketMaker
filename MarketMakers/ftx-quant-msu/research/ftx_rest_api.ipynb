{
 "cells": [
  {
   "cell_type": "markdown",
   "id": "a135bc48",
   "metadata": {},
   "source": [
    "# Exploring market market"
   ]
  },
  {
   "cell_type": "code",
   "execution_count": 1,
   "id": "3f434c25",
   "metadata": {},
   "outputs": [],
   "source": [
    "import os"
   ]
  },
  {
   "cell_type": "code",
   "execution_count": 2,
   "id": "bc462c83",
   "metadata": {},
   "outputs": [],
   "source": [
    "os.chdir('../')"
   ]
  },
  {
   "cell_type": "code",
   "execution_count": 3,
   "id": "eb222e82",
   "metadata": {},
   "outputs": [],
   "source": [
    "from strategies.market_maker import MarketMaker\n",
    "import yaml"
   ]
  },
  {
   "cell_type": "code",
   "execution_count": 4,
   "id": "c1644d85",
   "metadata": {},
   "outputs": [],
   "source": [
    "with open(\"config.yaml\") as f:\n",
    "    config = yaml.load(f, Loader=yaml.FullLoader)\n",
    "with open(\"api/api_keys.yaml\") as f:\n",
    "    api_keys = yaml.load(f, Loader=yaml.FullLoader)"
   ]
  },
  {
   "cell_type": "code",
   "execution_count": 9,
   "id": "7770a4e6",
   "metadata": {},
   "outputs": [],
   "source": [
    "import time\n",
    "import hmac\n",
    "from requests import Request\n",
    "\n",
    "endpoint = \"https://ftx.us/api\"\n",
    "ts = int(time.time() * 1000)\n",
    "request = Request('GET', endpoint)\n",
    "prepared = request.prepare()\n",
    "signature_payload = f'{ts}{prepared.method}{prepared.path_url}'.encode()\n",
    "signature = hmac.new(api_keys['api_secret'].encode(),\n",
    "                     signature_payload,\n",
    "                     'sha256'\n",
    "                    ).hexdigest()\n",
    "\n",
    "prepared.headers[f'FTXUS-KEY'] = api_keys['api_key']\n",
    "prepared.headers[f'FTXUS-KEY'] = signature\n",
    "prepared.headers[f'FTXUS-TS'] = str(ts)"
   ]
  },
  {
   "cell_type": "code",
   "execution_count": null,
   "id": "a2ab8c8e",
   "metadata": {},
   "outputs": [],
   "source": [
    "request."
   ]
  },
  {
   "cell_type": "code",
   "execution_count": null,
   "id": "1b9c88cc",
   "metadata": {},
   "outputs": [],
   "source": []
  },
  {
   "cell_type": "code",
   "execution_count": null,
   "id": "cecccd65",
   "metadata": {},
   "outputs": [],
   "source": []
  },
  {
   "cell_type": "code",
   "execution_count": null,
   "id": "c162a835",
   "metadata": {},
   "outputs": [],
   "source": []
  },
  {
   "cell_type": "code",
   "execution_count": null,
   "id": "99f93af7",
   "metadata": {},
   "outputs": [],
   "source": []
  },
  {
   "cell_type": "code",
   "execution_count": null,
   "id": "0abcb1f9",
   "metadata": {},
   "outputs": [],
   "source": []
  },
  {
   "cell_type": "code",
   "execution_count": null,
   "id": "fb573fa1",
   "metadata": {},
   "outputs": [],
   "source": []
  },
  {
   "cell_type": "code",
   "execution_count": null,
   "id": "4d48b0cf",
   "metadata": {},
   "outputs": [],
   "source": [
    "symbols = ['BTC/USD']"
   ]
  },
  {
   "cell_type": "code",
   "execution_count": null,
   "id": "61b8ab24",
   "metadata": {},
   "outputs": [],
   "source": [
    "mm = MarketMaker(config,\n",
    "                 api_key=api_keys['api_key'],\n",
    "                 api_secret=api_keys['api_secret'])"
   ]
  },
  {
   "cell_type": "code",
   "execution_count": null,
   "id": "adc5e2f5",
   "metadata": {},
   "outputs": [],
   "source": [
    "import ccxt\n",
    "exchange = ccxt.ftxus()\n",
    "exchange.apiKey = api_keys['api_key']\n",
    "exchange.secret = api_keys['api_secret']"
   ]
  },
  {
   "cell_type": "code",
   "execution_count": null,
   "id": "30fc2c47",
   "metadata": {
    "scrolled": true
   },
   "outputs": [],
   "source": [
    "asset_balances = exchange.fetchBalance()\n",
    "print(asset_balances)"
   ]
  },
  {
   "cell_type": "code",
   "execution_count": null,
   "id": "edba6ec8",
   "metadata": {},
   "outputs": [],
   "source": [
    "assets = asset_balances['info']['result']\n",
    "for coin in assets:\n",
    "    print(f\"{coin['coin']}: {coin['usdValue']}\")"
   ]
  },
  {
   "cell_type": "code",
   "execution_count": null,
   "id": "f7313c4c",
   "metadata": {},
   "outputs": [],
   "source": [
    "orders = exchange.fetchOrders()"
   ]
  },
  {
   "cell_type": "code",
   "execution_count": null,
   "id": "562b1b2b",
   "metadata": {
    "scrolled": true
   },
   "outputs": [],
   "source": [
    "orders"
   ]
  },
  {
   "cell_type": "code",
   "execution_count": null,
   "id": "c65d9ab7",
   "metadata": {},
   "outputs": [],
   "source": [
    "for order in orders:\n",
    "    order_info = order['info']['price']\n",
    "    print(order_info)"
   ]
  },
  {
   "cell_type": "code",
   "execution_count": null,
   "id": "eac45040",
   "metadata": {
    "scrolled": false
   },
   "outputs": [],
   "source": [
    "print(orders)"
   ]
  },
  {
   "cell_type": "code",
   "execution_count": null,
   "id": "24b20fd0",
   "metadata": {
    "scrolled": true
   },
   "outputs": [],
   "source": [
    "open_orders = exchange.fetchOpenOrders('BTC/USD')"
   ]
  },
  {
   "cell_type": "code",
   "execution_count": null,
   "id": "bd87e70c",
   "metadata": {},
   "outputs": [],
   "source": [
    "print(open_orders[0])"
   ]
  },
  {
   "cell_type": "code",
   "execution_count": null,
   "id": "e22e3c32",
   "metadata": {},
   "outputs": [],
   "source": [
    "sell_open_orders = [order for order in open_orders if \n",
    "                    order['side'] == 'buy']"
   ]
  },
  {
   "cell_type": "code",
   "execution_count": null,
   "id": "2698c8a9",
   "metadata": {
    "scrolled": true
   },
   "outputs": [],
   "source": [
    "print(sell_open_orders)"
   ]
  },
  {
   "cell_type": "code",
   "execution_count": null,
   "id": "257a1b7b",
   "metadata": {},
   "outputs": [],
   "source": []
  },
  {
   "cell_type": "code",
   "execution_count": null,
   "id": "ef90f472",
   "metadata": {},
   "outputs": [],
   "source": []
  },
  {
   "cell_type": "code",
   "execution_count": null,
   "id": "2ec2e477",
   "metadata": {},
   "outputs": [],
   "source": []
  },
  {
   "cell_type": "code",
   "execution_count": null,
   "id": "892f3cb5",
   "metadata": {},
   "outputs": [],
   "source": []
  },
  {
   "cell_type": "code",
   "execution_count": null,
   "id": "1bd7658c",
   "metadata": {},
   "outputs": [],
   "source": []
  },
  {
   "cell_type": "code",
   "execution_count": null,
   "id": "adbd9f18",
   "metadata": {},
   "outputs": [],
   "source": []
  },
  {
   "cell_type": "code",
   "execution_count": null,
   "id": "c0dec1cb",
   "metadata": {},
   "outputs": [],
   "source": []
  },
  {
   "cell_type": "code",
   "execution_count": null,
   "id": "61d201cb",
   "metadata": {},
   "outputs": [],
   "source": []
  },
  {
   "cell_type": "code",
   "execution_count": null,
   "id": "f4314d56",
   "metadata": {},
   "outputs": [],
   "source": [
    "import time\n",
    "sample_time = 60 # seconds"
   ]
  },
  {
   "cell_type": "code",
   "execution_count": null,
   "id": "4f0aff62",
   "metadata": {
    "scrolled": true
   },
   "outputs": [],
   "source": [
    "ws.get_orderbook(market='BTC/USD')"
   ]
  },
  {
   "cell_type": "code",
   "execution_count": null,
   "id": "65ed52c1",
   "metadata": {
    "scrolled": true
   },
   "outputs": [],
   "source": [
    "ws._orderbook_timestamps"
   ]
  },
  {
   "cell_type": "code",
   "execution_count": null,
   "id": "54645d5c",
   "metadata": {},
   "outputs": [],
   "source": []
  },
  {
   "cell_type": "code",
   "execution_count": null,
   "id": "968314a4",
   "metadata": {
    "scrolled": true
   },
   "outputs": [],
   "source": [
    "a = ws.get_orderbook(market='BTC/USD')"
   ]
  },
  {
   "cell_type": "code",
   "execution_count": null,
   "id": "72eb49f4",
   "metadata": {
    "scrolled": false
   },
   "outputs": [],
   "source": [
    "a"
   ]
  },
  {
   "cell_type": "code",
   "execution_count": null,
   "id": "262f4114",
   "metadata": {},
   "outputs": [],
   "source": [
    "import numpy as np\n",
    "b = np.zeros((25, 2))\n",
    "\n",
    "start_time = time.time()\n",
    "for ii in range(25):\n",
    "    b[ii, :] = a['bids'][ii]\n",
    "end_time = time.time()\n",
    "\n",
    "print(end_time - start_time)"
   ]
  },
  {
   "cell_type": "code",
   "execution_count": null,
   "id": "3e6822de",
   "metadata": {},
   "outputs": [],
   "source": []
  },
  {
   "cell_type": "code",
   "execution_count": null,
   "id": "d24e4421",
   "metadata": {
    "scrolled": true
   },
   "outputs": [],
   "source": [
    "ws.get_orderbook_timestamp(market='BTC/USD')"
   ]
  },
  {
   "cell_type": "code",
   "execution_count": null,
   "id": "e6733c27",
   "metadata": {},
   "outputs": [],
   "source": [
    "stop_time = time.time() + sample_time\n",
    "\n",
    "orderbook_timestamps = []\n",
    "while (time.time() < stop_time):\n",
    "    orderbook_timestamp = ws.get_orderbook_timestamp(market='BTC/USD')\n",
    "    orderbook_timestamps.append(orderbook_timestamp)"
   ]
  },
  {
   "cell_type": "code",
   "execution_count": null,
   "id": "b77605b6",
   "metadata": {},
   "outputs": [],
   "source": [
    "import pandas as pd\n",
    "import matplotlib.pyplot as plt\n",
    "import numpy as np\n",
    "%matplotlib notebook"
   ]
  },
  {
   "cell_type": "code",
   "execution_count": null,
   "id": "58e63d27",
   "metadata": {},
   "outputs": [],
   "source": [
    "orderbook_ts_df = pd.DataFrame(orderbook_timestamps, columns=['time'])"
   ]
  },
  {
   "cell_type": "code",
   "execution_count": null,
   "id": "e5fcf925",
   "metadata": {},
   "outputs": [],
   "source": [
    "orderbook_ts_df"
   ]
  },
  {
   "cell_type": "code",
   "execution_count": null,
   "id": "e5a1e3ae",
   "metadata": {},
   "outputs": [],
   "source": [
    "orderbook_ts_df['micro_second'] = orderbook_ts_df['time'] * 1000000"
   ]
  },
  {
   "cell_type": "code",
   "execution_count": null,
   "id": "86a1e3b8",
   "metadata": {},
   "outputs": [],
   "source": [
    "orderbook_ts_df['micro_second'].astype(int)\n"
   ]
  },
  {
   "cell_type": "code",
   "execution_count": null,
   "id": "9493324e",
   "metadata": {},
   "outputs": [],
   "source": [
    "orderbook_ts_unique = orderbook_ts_df['micro_second'].unique()"
   ]
  },
  {
   "cell_type": "code",
   "execution_count": null,
   "id": "dd17b7e1",
   "metadata": {
    "scrolled": true
   },
   "outputs": [],
   "source": [
    "len(orderbook_ts_unique)"
   ]
  },
  {
   "cell_type": "code",
   "execution_count": null,
   "id": "f488c309",
   "metadata": {},
   "outputs": [],
   "source": [
    "import numpy as np\n",
    "orderbook_intermessage_arrival_times = np.diff(orderbook_ts_unique)"
   ]
  },
  {
   "cell_type": "code",
   "execution_count": null,
   "id": "0f7745a4",
   "metadata": {
    "scrolled": true
   },
   "outputs": [],
   "source": [
    "orderbook_ts_unique \n",
    "\n",
    "fig = plt.figure()\n",
    "\n",
    "a = plt.hist(orderbook_intermessage_arrival_times / 1000, bins=100)"
   ]
  },
  {
   "cell_type": "code",
   "execution_count": null,
   "id": "c2b2e200",
   "metadata": {},
   "outputs": [],
   "source": [
    "a"
   ]
  },
  {
   "cell_type": "code",
   "execution_count": null,
   "id": "b7049d8f",
   "metadata": {},
   "outputs": [],
   "source": [
    "np.min(orderbook_intermessage_arrival_times) / 1000"
   ]
  },
  {
   "cell_type": "code",
   "execution_count": null,
   "id": "b1e9651f",
   "metadata": {},
   "outputs": [],
   "source": [
    "fig2 = plt.figure()\n",
    "\n",
    "plt.plot(a[1][:-1], a[0].cumsum() / len(orderbook_intermessage_arrival_times))"
   ]
  },
  {
   "cell_type": "code",
   "execution_count": null,
   "id": "052d3362",
   "metadata": {},
   "outputs": [],
   "source": []
  }
 ],
 "metadata": {
  "kernelspec": {
   "display_name": "Python 3 (ipykernel)",
   "language": "python",
   "name": "python3"
  },
  "language_info": {
   "codemirror_mode": {
    "name": "ipython",
    "version": 3
   },
   "file_extension": ".py",
   "mimetype": "text/x-python",
   "name": "python",
   "nbconvert_exporter": "python",
   "pygments_lexer": "ipython3",
   "version": "3.7.13"
  }
 },
 "nbformat": 4,
 "nbformat_minor": 5
}
